{
 "cells": [
  {
   "cell_type": "code",
   "execution_count": 1,
   "id": "cff47cc1-3112-4caf-a1fd-12ff8cf674fd",
   "metadata": {
    "execution": {
     "iopub.execute_input": "2025-01-13T16:51:42.249860Z",
     "iopub.status.busy": "2025-01-13T16:51:42.249546Z",
     "iopub.status.idle": "2025-01-13T16:51:42.633923Z",
     "shell.execute_reply": "2025-01-13T16:51:42.633343Z"
    },
    "papermill": {
     "duration": 0.393544,
     "end_time": "2025-01-13T16:51:42.635048",
     "exception": false,
     "start_time": "2025-01-13T16:51:42.241504",
     "status": "completed"
    },
    "tags": []
   },
   "outputs": [],
   "source": [
    "# import libraries\n",
    "import pandas as pd\n",
    "import numpy as np\n",
    "from datetime import datetime, timedelta\n",
    "import boto3"
   ]
  },
  {
   "cell_type": "code",
   "execution_count": 2,
   "id": "e97d170c-8d23-41c1-a6be-5ef6f3b3b8d0",
   "metadata": {
    "execution": {
     "iopub.execute_input": "2025-01-13T16:51:42.647911Z",
     "iopub.status.busy": "2025-01-13T16:51:42.647530Z",
     "iopub.status.idle": "2025-01-13T16:51:42.734350Z",
     "shell.execute_reply": "2025-01-13T16:51:42.733775Z"
    },
    "papermill": {
     "duration": 0.09434,
     "end_time": "2025-01-13T16:51:42.735509",
     "exception": false,
     "start_time": "2025-01-13T16:51:42.641169",
     "status": "completed"
    },
    "tags": []
   },
   "outputs": [],
   "source": [
    "s3 = boto3.client('s3')"
   ]
  },
  {
   "cell_type": "code",
   "execution_count": 3,
   "id": "1fa222c5-a3ac-459d-adf7-0efa5669c2b5",
   "metadata": {
    "execution": {
     "iopub.execute_input": "2025-01-13T16:51:42.748169Z",
     "iopub.status.busy": "2025-01-13T16:51:42.747881Z",
     "iopub.status.idle": "2025-01-13T16:52:34.252494Z",
     "shell.execute_reply": "2025-01-13T16:52:34.251886Z"
    },
    "papermill": {
     "duration": 51.512139,
     "end_time": "2025-01-13T16:52:34.253690",
     "exception": false,
     "start_time": "2025-01-13T16:51:42.741551",
     "status": "completed"
    },
    "tags": []
   },
   "outputs": [],
   "source": [
    "#Daños \n",
    "yesterday = (datetime.now() - timedelta(1)).strftime('%Y-%m-%d')\n",
    "bucket_name = 'hdi-sagemaker-project-co'\n",
    "s3_path_A = f\"data-science/nppm-latam/fraude/daily_claims_colombia/daily_claims_colombia_danios/siniestros_novedades_diario_danios_{yesterday}.xlsx\"\n",
    "local_file_name_A = 'file_A.xlsx'\n",
    "\n",
    "s3.download_file(bucket_name, s3_path_A, local_file_name_A)\n",
    "file_A = pd.read_excel(local_file_name_A)"
   ]
  },
  {
   "cell_type": "code",
   "execution_count": 4,
   "id": "ac115f20-a88d-4911-8654-4358d556fe03",
   "metadata": {
    "execution": {
     "iopub.execute_input": "2025-01-13T16:52:34.266635Z",
     "iopub.status.busy": "2025-01-13T16:52:34.266237Z",
     "iopub.status.idle": "2025-01-13T16:52:36.992667Z",
     "shell.execute_reply": "2025-01-13T16:52:36.992074Z"
    },
    "papermill": {
     "duration": 2.734125,
     "end_time": "2025-01-13T16:52:36.993893",
     "exception": false,
     "start_time": "2025-01-13T16:52:34.259768",
     "status": "completed"
    },
    "tags": []
   },
   "outputs": [],
   "source": [
    "#Hurto\n",
    "s3_path_B = f\"data-science/nppm-latam/fraude/daily_claims_colombia/daily_claims_colombia_hurto/siniestros_novedades_diario_hurto_{yesterday}.xlsx\"\n",
    "local_file_name_B = 'file_B.xlsx'\n",
    "\n",
    "s3.download_file(bucket_name, s3_path_B, local_file_name_B)\n",
    "file_B = pd.read_excel(local_file_name_B)"
   ]
  },
  {
   "cell_type": "code",
   "execution_count": null,
   "id": "74f65fc7-587f-41a1-b619-96cb04a92051",
   "metadata": {
    "papermill": {
     "duration": 0.005819,
     "end_time": "2025-01-13T16:52:37.005790",
     "exception": false,
     "start_time": "2025-01-13T16:52:36.999971",
     "status": "completed"
    },
    "tags": []
   },
   "outputs": [],
   "source": []
  },
  {
   "cell_type": "code",
   "execution_count": 5,
   "id": "a4931d36-6d53-43a0-aeb2-d2bba1d5d861",
   "metadata": {
    "execution": {
     "iopub.execute_input": "2025-01-13T16:52:37.018214Z",
     "iopub.status.busy": "2025-01-13T16:52:37.017875Z",
     "iopub.status.idle": "2025-01-13T16:52:37.021034Z",
     "shell.execute_reply": "2025-01-13T16:52:37.020546Z"
    },
    "papermill": {
     "duration": 0.010346,
     "end_time": "2025-01-13T16:52:37.021835",
     "exception": false,
     "start_time": "2025-01-13T16:52:37.011489",
     "status": "completed"
    },
    "tags": []
   },
   "outputs": [],
   "source": [
    "columns_to_keep = ['numero_siniestro', 'placa_vehiculo', 'descripcion_riesgo', 'tipo_iden_aseg', 'nro_iden_aseg', 'servicio']"
   ]
  },
  {
   "cell_type": "code",
   "execution_count": 6,
   "id": "a80a3407-3e0b-480f-96de-fa2bdd1a5964",
   "metadata": {
    "execution": {
     "iopub.execute_input": "2025-01-13T16:52:37.034233Z",
     "iopub.status.busy": "2025-01-13T16:52:37.033953Z",
     "iopub.status.idle": "2025-01-13T16:52:37.044674Z",
     "shell.execute_reply": "2025-01-13T16:52:37.044134Z"
    },
    "papermill": {
     "duration": 0.018018,
     "end_time": "2025-01-13T16:52:37.045588",
     "exception": false,
     "start_time": "2025-01-13T16:52:37.027570",
     "status": "completed"
    },
    "tags": []
   },
   "outputs": [],
   "source": [
    "file_A = file_A[columns_to_keep]\n",
    "file_B = file_B[columns_to_keep]"
   ]
  },
  {
   "cell_type": "code",
   "execution_count": 7,
   "id": "c628096b-d0a1-4a94-9626-58be9463f6aa",
   "metadata": {
    "execution": {
     "iopub.execute_input": "2025-01-13T16:52:37.058212Z",
     "iopub.status.busy": "2025-01-13T16:52:37.057924Z",
     "iopub.status.idle": "2025-01-13T16:52:37.076156Z",
     "shell.execute_reply": "2025-01-13T16:52:37.075659Z"
    },
    "papermill": {
     "duration": 0.025515,
     "end_time": "2025-01-13T16:52:37.076998",
     "exception": false,
     "start_time": "2025-01-13T16:52:37.051483",
     "status": "completed"
    },
    "tags": []
   },
   "outputs": [
    {
     "data": {
      "text/html": [
       "<div>\n",
       "<style scoped>\n",
       "    .dataframe tbody tr th:only-of-type {\n",
       "        vertical-align: middle;\n",
       "    }\n",
       "\n",
       "    .dataframe tbody tr th {\n",
       "        vertical-align: top;\n",
       "    }\n",
       "\n",
       "    .dataframe thead th {\n",
       "        text-align: right;\n",
       "    }\n",
       "</style>\n",
       "<table border=\"1\" class=\"dataframe\">\n",
       "  <thead>\n",
       "    <tr style=\"text-align: right;\">\n",
       "      <th></th>\n",
       "      <th>numero_siniestro</th>\n",
       "      <th>placa_vehiculo</th>\n",
       "      <th>descripcion_riesgo</th>\n",
       "      <th>tipo_iden_aseg</th>\n",
       "      <th>nro_iden_aseg</th>\n",
       "      <th>servicio</th>\n",
       "    </tr>\n",
       "  </thead>\n",
       "  <tbody>\n",
       "    <tr>\n",
       "      <th>0</th>\n",
       "      <td>1126553</td>\n",
       "      <td>KOX390</td>\n",
       "      <td>KOX390 - JEEP - RENEGADE - SPORT MT 1800CC 4X2...</td>\n",
       "      <td>Cédula Ciudadanía</td>\n",
       "      <td>19266175</td>\n",
       "      <td>Particular</td>\n",
       "    </tr>\n",
       "    <tr>\n",
       "      <th>1</th>\n",
       "      <td>1126553</td>\n",
       "      <td>KOX390</td>\n",
       "      <td>KOX390 - JEEP - RENEGADE - SPORT MT 1800CC 4X2...</td>\n",
       "      <td>Cédula Ciudadanía</td>\n",
       "      <td>19266175</td>\n",
       "      <td>Particular</td>\n",
       "    </tr>\n",
       "  </tbody>\n",
       "</table>\n",
       "</div>"
      ],
      "text/plain": [
       "   numero_siniestro placa_vehiculo  \\\n",
       "0           1126553         KOX390   \n",
       "1           1126553         KOX390   \n",
       "\n",
       "                                  descripcion_riesgo     tipo_iden_aseg  \\\n",
       "0  KOX390 - JEEP - RENEGADE - SPORT MT 1800CC 4X2...  Cédula Ciudadanía   \n",
       "1  KOX390 - JEEP - RENEGADE - SPORT MT 1800CC 4X2...  Cédula Ciudadanía   \n",
       "\n",
       "   nro_iden_aseg    servicio  \n",
       "0       19266175  Particular  \n",
       "1       19266175  Particular  "
      ]
     },
     "execution_count": 7,
     "metadata": {},
     "output_type": "execute_result"
    }
   ],
   "source": [
    "file_A.head(2)"
   ]
  },
  {
   "cell_type": "code",
   "execution_count": 8,
   "id": "0107f441-0855-413e-a0e9-620bb36744ce",
   "metadata": {
    "execution": {
     "iopub.execute_input": "2025-01-13T16:52:37.089866Z",
     "iopub.status.busy": "2025-01-13T16:52:37.089580Z",
     "iopub.status.idle": "2025-01-13T16:52:37.094036Z",
     "shell.execute_reply": "2025-01-13T16:52:37.093575Z"
    },
    "papermill": {
     "duration": 0.011798,
     "end_time": "2025-01-13T16:52:37.094865",
     "exception": false,
     "start_time": "2025-01-13T16:52:37.083067",
     "status": "completed"
    },
    "tags": []
   },
   "outputs": [
    {
     "name": "stdout",
     "output_type": "stream",
     "text": [
      "53305\n",
      "2638\n"
     ]
    },
    {
     "data": {
      "text/plain": [
       "(None, None)"
      ]
     },
     "execution_count": 8,
     "metadata": {},
     "output_type": "execute_result"
    }
   ],
   "source": [
    "print(file_A.shape[0]),print(file_B.shape[0]) "
   ]
  },
  {
   "cell_type": "code",
   "execution_count": 9,
   "id": "f8e52a6b-d45a-4f93-9d88-c1ffb98effc5",
   "metadata": {
    "execution": {
     "iopub.execute_input": "2025-01-13T16:52:37.113097Z",
     "iopub.status.busy": "2025-01-13T16:52:37.112814Z",
     "iopub.status.idle": "2025-01-13T16:52:37.117163Z",
     "shell.execute_reply": "2025-01-13T16:52:37.116664Z"
    },
    "papermill": {
     "duration": 0.016964,
     "end_time": "2025-01-13T16:52:37.117963",
     "exception": false,
     "start_time": "2025-01-13T16:52:37.100999",
     "status": "completed"
    },
    "tags": []
   },
   "outputs": [],
   "source": [
    "# Anexar las filas de file_A y file_B\n",
    "file_E = pd.concat([file_A, file_B])"
   ]
  },
  {
   "cell_type": "code",
   "execution_count": 10,
   "id": "785e5db4-f1df-4c7e-b125-789f906e166e",
   "metadata": {
    "execution": {
     "iopub.execute_input": "2025-01-13T16:52:37.133655Z",
     "iopub.status.busy": "2025-01-13T16:52:37.133363Z",
     "iopub.status.idle": "2025-01-13T16:52:37.140605Z",
     "shell.execute_reply": "2025-01-13T16:52:37.140129Z"
    },
    "papermill": {
     "duration": 0.017356,
     "end_time": "2025-01-13T16:52:37.141429",
     "exception": false,
     "start_time": "2025-01-13T16:52:37.124073",
     "status": "completed"
    },
    "tags": []
   },
   "outputs": [
    {
     "data": {
      "text/html": [
       "<div>\n",
       "<style scoped>\n",
       "    .dataframe tbody tr th:only-of-type {\n",
       "        vertical-align: middle;\n",
       "    }\n",
       "\n",
       "    .dataframe tbody tr th {\n",
       "        vertical-align: top;\n",
       "    }\n",
       "\n",
       "    .dataframe thead th {\n",
       "        text-align: right;\n",
       "    }\n",
       "</style>\n",
       "<table border=\"1\" class=\"dataframe\">\n",
       "  <thead>\n",
       "    <tr style=\"text-align: right;\">\n",
       "      <th></th>\n",
       "      <th>numero_siniestro</th>\n",
       "      <th>placa_vehiculo</th>\n",
       "      <th>descripcion_riesgo</th>\n",
       "      <th>tipo_iden_aseg</th>\n",
       "      <th>nro_iden_aseg</th>\n",
       "      <th>servicio</th>\n",
       "    </tr>\n",
       "  </thead>\n",
       "  <tbody>\n",
       "    <tr>\n",
       "      <th>0</th>\n",
       "      <td>1126553</td>\n",
       "      <td>KOX390</td>\n",
       "      <td>KOX390 - JEEP - RENEGADE - SPORT MT 1800CC 4X2...</td>\n",
       "      <td>Cédula Ciudadanía</td>\n",
       "      <td>19266175</td>\n",
       "      <td>Particular</td>\n",
       "    </tr>\n",
       "    <tr>\n",
       "      <th>1</th>\n",
       "      <td>1126553</td>\n",
       "      <td>KOX390</td>\n",
       "      <td>KOX390 - JEEP - RENEGADE - SPORT MT 1800CC 4X2...</td>\n",
       "      <td>Cédula Ciudadanía</td>\n",
       "      <td>19266175</td>\n",
       "      <td>Particular</td>\n",
       "    </tr>\n",
       "  </tbody>\n",
       "</table>\n",
       "</div>"
      ],
      "text/plain": [
       "   numero_siniestro placa_vehiculo  \\\n",
       "0           1126553         KOX390   \n",
       "1           1126553         KOX390   \n",
       "\n",
       "                                  descripcion_riesgo     tipo_iden_aseg  \\\n",
       "0  KOX390 - JEEP - RENEGADE - SPORT MT 1800CC 4X2...  Cédula Ciudadanía   \n",
       "1  KOX390 - JEEP - RENEGADE - SPORT MT 1800CC 4X2...  Cédula Ciudadanía   \n",
       "\n",
       "   nro_iden_aseg    servicio  \n",
       "0       19266175  Particular  \n",
       "1       19266175  Particular  "
      ]
     },
     "execution_count": 10,
     "metadata": {},
     "output_type": "execute_result"
    }
   ],
   "source": [
    "file_E.head(2)"
   ]
  },
  {
   "cell_type": "code",
   "execution_count": 11,
   "id": "c017a3a2-63e8-4cf3-8bb7-29e18db74435",
   "metadata": {
    "execution": {
     "iopub.execute_input": "2025-01-13T16:52:37.154690Z",
     "iopub.status.busy": "2025-01-13T16:52:37.154420Z",
     "iopub.status.idle": "2025-01-13T16:52:37.157586Z",
     "shell.execute_reply": "2025-01-13T16:52:37.157094Z"
    },
    "papermill": {
     "duration": 0.010783,
     "end_time": "2025-01-13T16:52:37.158434",
     "exception": false,
     "start_time": "2025-01-13T16:52:37.147651",
     "status": "completed"
    },
    "tags": []
   },
   "outputs": [
    {
     "name": "stdout",
     "output_type": "stream",
     "text": [
      "55943\n"
     ]
    }
   ],
   "source": [
    "print(file_E.shape[0])"
   ]
  },
  {
   "cell_type": "code",
   "execution_count": 12,
   "id": "42a8cc42-d84e-4198-abd6-e41e2d6b1137",
   "metadata": {
    "execution": {
     "iopub.execute_input": "2025-01-13T16:52:37.171816Z",
     "iopub.status.busy": "2025-01-13T16:52:37.171543Z",
     "iopub.status.idle": "2025-01-13T16:52:37.193651Z",
     "shell.execute_reply": "2025-01-13T16:52:37.193134Z"
    },
    "papermill": {
     "duration": 0.029864,
     "end_time": "2025-01-13T16:52:37.194549",
     "exception": false,
     "start_time": "2025-01-13T16:52:37.164685",
     "status": "completed"
    },
    "tags": []
   },
   "outputs": [
    {
     "data": {
      "text/html": [
       "<div>\n",
       "<style scoped>\n",
       "    .dataframe tbody tr th:only-of-type {\n",
       "        vertical-align: middle;\n",
       "    }\n",
       "\n",
       "    .dataframe tbody tr th {\n",
       "        vertical-align: top;\n",
       "    }\n",
       "\n",
       "    .dataframe thead th {\n",
       "        text-align: right;\n",
       "    }\n",
       "</style>\n",
       "<table border=\"1\" class=\"dataframe\">\n",
       "  <thead>\n",
       "    <tr style=\"text-align: right;\">\n",
       "      <th></th>\n",
       "      <th>numero_siniestro</th>\n",
       "      <th>placa_vehiculo</th>\n",
       "      <th>descripcion_riesgo</th>\n",
       "      <th>tipo_iden_aseg</th>\n",
       "      <th>nro_iden_aseg</th>\n",
       "      <th>servicio</th>\n",
       "    </tr>\n",
       "  </thead>\n",
       "  <tbody>\n",
       "    <tr>\n",
       "      <th>0</th>\n",
       "      <td>1126553</td>\n",
       "      <td>KOX390</td>\n",
       "      <td>KOX390 - JEEP - RENEGADE - SPORT MT 1800CC 4X2...</td>\n",
       "      <td>Cédula Ciudadanía</td>\n",
       "      <td>19266175</td>\n",
       "      <td>Particular</td>\n",
       "    </tr>\n",
       "    <tr>\n",
       "      <th>1</th>\n",
       "      <td>1126683</td>\n",
       "      <td>EPM424</td>\n",
       "      <td>EPM424 - MAZDA - CX5 [2] - TOURINGTP 2500C</td>\n",
       "      <td>Cédula Ciudadanía</td>\n",
       "      <td>1088260313</td>\n",
       "      <td>Particular</td>\n",
       "    </tr>\n",
       "  </tbody>\n",
       "</table>\n",
       "</div>"
      ],
      "text/plain": [
       "   numero_siniestro placa_vehiculo  \\\n",
       "0           1126553         KOX390   \n",
       "1           1126683         EPM424   \n",
       "\n",
       "                                  descripcion_riesgo     tipo_iden_aseg  \\\n",
       "0  KOX390 - JEEP - RENEGADE - SPORT MT 1800CC 4X2...  Cédula Ciudadanía   \n",
       "1        EPM424 - MAZDA - CX5 [2] - TOURINGTP 2500C   Cédula Ciudadanía   \n",
       "\n",
       "   nro_iden_aseg    servicio  \n",
       "0       19266175  Particular  \n",
       "1     1088260313  Particular  "
      ]
     },
     "execution_count": 12,
     "metadata": {},
     "output_type": "execute_result"
    }
   ],
   "source": [
    "# Eliminar duplicados \n",
    "file_E = file_E.drop_duplicates()\n",
    "file_E.reset_index(drop = True, inplace = True)\n",
    "file_E.head(2)"
   ]
  },
  {
   "cell_type": "code",
   "execution_count": 13,
   "id": "86bba954-eca0-4e4d-b760-7612e20ea39a",
   "metadata": {
    "execution": {
     "iopub.execute_input": "2025-01-13T16:52:37.239150Z",
     "iopub.status.busy": "2025-01-13T16:52:37.238833Z",
     "iopub.status.idle": "2025-01-13T16:52:37.242235Z",
     "shell.execute_reply": "2025-01-13T16:52:37.241729Z"
    },
    "papermill": {
     "duration": 0.011514,
     "end_time": "2025-01-13T16:52:37.243098",
     "exception": false,
     "start_time": "2025-01-13T16:52:37.231584",
     "status": "completed"
    },
    "tags": []
   },
   "outputs": [
    {
     "name": "stdout",
     "output_type": "stream",
     "text": [
      "124\n"
     ]
    }
   ],
   "source": [
    "print(file_E.shape[0])"
   ]
  },
  {
   "cell_type": "code",
   "execution_count": 14,
   "id": "7aeb078c-e906-42f4-a84b-f8b83ed90f85",
   "metadata": {
    "execution": {
     "iopub.execute_input": "2025-01-13T16:52:37.256959Z",
     "iopub.status.busy": "2025-01-13T16:52:37.256683Z",
     "iopub.status.idle": "2025-01-13T16:54:27.063380Z",
     "shell.execute_reply": "2025-01-13T16:54:27.062804Z"
    },
    "papermill": {
     "duration": 109.814938,
     "end_time": "2025-01-13T16:54:27.064562",
     "exception": false,
     "start_time": "2025-01-13T16:52:37.249624",
     "status": "completed"
    },
    "tags": []
   },
   "outputs": [],
   "source": [
    "# Cargar resumen de tiempos \n",
    "file_C = pd.read_excel(\"ResumenTiemposEspecial  122024.xlsx\") #Resumen de tipos sharepoint\n",
    "file_C.to_excel(\"file_C.xlsx\", index = False)\n"
   ]
  },
  {
   "cell_type": "code",
   "execution_count": 15,
   "id": "52b9eb5d-2921-4e9b-b792-0b0419b5b419",
   "metadata": {
    "execution": {
     "iopub.execute_input": "2025-01-13T16:54:27.079224Z",
     "iopub.status.busy": "2025-01-13T16:54:27.078901Z",
     "iopub.status.idle": "2025-01-13T16:54:27.082196Z",
     "shell.execute_reply": "2025-01-13T16:54:27.081676Z"
    },
    "papermill": {
     "duration": 0.011519,
     "end_time": "2025-01-13T16:54:27.083029",
     "exception": false,
     "start_time": "2025-01-13T16:54:27.071510",
     "status": "completed"
    },
    "tags": []
   },
   "outputs": [],
   "source": [
    "# columnas que se utilizaran y renombrar \n",
    "columns_to_keep_C = ['Clave', 'Amparo', 'Siniestro', 'Placa', 'FechaSin', 'CedConductor']\n",
    "rename_columns_C = {'Siniestro': 'numero_siniestro', 'Placa': 'placa_vehiculo'}"
   ]
  },
  {
   "cell_type": "code",
   "execution_count": 16,
   "id": "3374d3d9-8d5d-403a-95d1-0e0d3ebad8f5",
   "metadata": {
    "execution": {
     "iopub.execute_input": "2025-01-13T16:54:27.097117Z",
     "iopub.status.busy": "2025-01-13T16:54:27.096833Z",
     "iopub.status.idle": "2025-01-13T16:54:27.116738Z",
     "shell.execute_reply": "2025-01-13T16:54:27.116174Z"
    },
    "papermill": {
     "duration": 0.028082,
     "end_time": "2025-01-13T16:54:27.117757",
     "exception": false,
     "start_time": "2025-01-13T16:54:27.089675",
     "status": "completed"
    },
    "tags": []
   },
   "outputs": [],
   "source": [
    "# filtrar y renombrar columnas\n",
    "file_C = file_C[columns_to_keep_C].rename(columns=rename_columns_C)"
   ]
  },
  {
   "cell_type": "code",
   "execution_count": 17,
   "id": "9dff59bf-86a6-4592-8c83-242b26eaaea3",
   "metadata": {
    "execution": {
     "iopub.execute_input": "2025-01-13T16:54:27.132038Z",
     "iopub.status.busy": "2025-01-13T16:54:27.131744Z",
     "iopub.status.idle": "2025-01-13T16:54:27.139225Z",
     "shell.execute_reply": "2025-01-13T16:54:27.138733Z"
    },
    "papermill": {
     "duration": 0.015579,
     "end_time": "2025-01-13T16:54:27.140065",
     "exception": false,
     "start_time": "2025-01-13T16:54:27.124486",
     "status": "completed"
    },
    "tags": []
   },
   "outputs": [
    {
     "data": {
      "text/html": [
       "<div>\n",
       "<style scoped>\n",
       "    .dataframe tbody tr th:only-of-type {\n",
       "        vertical-align: middle;\n",
       "    }\n",
       "\n",
       "    .dataframe tbody tr th {\n",
       "        vertical-align: top;\n",
       "    }\n",
       "\n",
       "    .dataframe thead th {\n",
       "        text-align: right;\n",
       "    }\n",
       "</style>\n",
       "<table border=\"1\" class=\"dataframe\">\n",
       "  <thead>\n",
       "    <tr style=\"text-align: right;\">\n",
       "      <th></th>\n",
       "      <th>Clave</th>\n",
       "      <th>Amparo</th>\n",
       "      <th>numero_siniestro</th>\n",
       "      <th>placa_vehiculo</th>\n",
       "      <th>FechaSin</th>\n",
       "      <th>CedConductor</th>\n",
       "    </tr>\n",
       "  </thead>\n",
       "  <tbody>\n",
       "    <tr>\n",
       "      <th>0</th>\n",
       "      <td>800772</td>\n",
       "      <td>PPD</td>\n",
       "      <td>1067405</td>\n",
       "      <td>ISQ167</td>\n",
       "      <td>2024-01-01</td>\n",
       "      <td>1040043739</td>\n",
       "    </tr>\n",
       "    <tr>\n",
       "      <th>1</th>\n",
       "      <td>800773</td>\n",
       "      <td>PPD</td>\n",
       "      <td>1067406</td>\n",
       "      <td>JGS782</td>\n",
       "      <td>2023-12-31</td>\n",
       "      <td>1061737635</td>\n",
       "    </tr>\n",
       "  </tbody>\n",
       "</table>\n",
       "</div>"
      ],
      "text/plain": [
       "    Clave Amparo numero_siniestro placa_vehiculo   FechaSin CedConductor\n",
       "0  800772    PPD          1067405         ISQ167 2024-01-01   1040043739\n",
       "1  800773    PPD          1067406         JGS782 2023-12-31   1061737635"
      ]
     },
     "execution_count": 17,
     "metadata": {},
     "output_type": "execute_result"
    }
   ],
   "source": [
    "file_C.head(2)"
   ]
  },
  {
   "cell_type": "code",
   "execution_count": 18,
   "id": "07cde7f3-d764-4f00-93b0-d0826afd349b",
   "metadata": {
    "execution": {
     "iopub.execute_input": "2025-01-13T16:54:27.154378Z",
     "iopub.status.busy": "2025-01-13T16:54:27.154081Z",
     "iopub.status.idle": "2025-01-13T16:54:27.158878Z",
     "shell.execute_reply": "2025-01-13T16:54:27.158393Z"
    },
    "papermill": {
     "duration": 0.012857,
     "end_time": "2025-01-13T16:54:27.159680",
     "exception": false,
     "start_time": "2025-01-13T16:54:27.146823",
     "status": "completed"
    },
    "tags": []
   },
   "outputs": [
    {
     "data": {
      "text/plain": [
       "Clave                        int64\n",
       "Amparo                      object\n",
       "numero_siniestro            object\n",
       "placa_vehiculo              object\n",
       "FechaSin            datetime64[ns]\n",
       "CedConductor                object\n",
       "dtype: object"
      ]
     },
     "execution_count": 18,
     "metadata": {},
     "output_type": "execute_result"
    }
   ],
   "source": [
    "file_C.dtypes"
   ]
  },
  {
   "cell_type": "code",
   "execution_count": 19,
   "id": "651f8afc-cc41-4f25-88f6-ad11494ebe5f",
   "metadata": {
    "execution": {
     "iopub.execute_input": "2025-01-13T16:54:27.174158Z",
     "iopub.status.busy": "2025-01-13T16:54:27.173884Z",
     "iopub.status.idle": "2025-01-13T16:54:27.178728Z",
     "shell.execute_reply": "2025-01-13T16:54:27.178234Z"
    },
    "papermill": {
     "duration": 0.013017,
     "end_time": "2025-01-13T16:54:27.179538",
     "exception": false,
     "start_time": "2025-01-13T16:54:27.166521",
     "status": "completed"
    },
    "tags": []
   },
   "outputs": [
    {
     "data": {
      "text/plain": [
       "numero_siniestro       int64\n",
       "placa_vehiculo        object\n",
       "descripcion_riesgo    object\n",
       "tipo_iden_aseg        object\n",
       "nro_iden_aseg          int64\n",
       "servicio              object\n",
       "dtype: object"
      ]
     },
     "execution_count": 19,
     "metadata": {},
     "output_type": "execute_result"
    }
   ],
   "source": [
    "file_E.dtypes"
   ]
  },
  {
   "cell_type": "code",
   "execution_count": 20,
   "id": "bf5bc8b9-d64c-4293-aadb-eb797e46319f",
   "metadata": {
    "execution": {
     "iopub.execute_input": "2025-01-13T16:54:27.194405Z",
     "iopub.status.busy": "2025-01-13T16:54:27.194106Z",
     "iopub.status.idle": "2025-01-13T16:54:27.209430Z",
     "shell.execute_reply": "2025-01-13T16:54:27.208868Z"
    },
    "papermill": {
     "duration": 0.023773,
     "end_time": "2025-01-13T16:54:27.210383",
     "exception": false,
     "start_time": "2025-01-13T16:54:27.186610",
     "status": "completed"
    },
    "tags": []
   },
   "outputs": [],
   "source": [
    "# Filtrar file_C para mantener solo las filas donde Amparo es 'PPD' o 'PTD' o 'PPH' o 'PTH'file_C = file_C[(file_C['Amparo'] == 'PPD') | (file_C['Amparo'] == 'PTD')\n",
    "file_C = file_C[(file_C['Amparo'] == 'PPD') | (file_C['Amparo'] == 'PTD')\n",
    "                | (file_C['Amparo'] == 'PPH') | (file_C['Amparo'] == 'PTH')]\n",
    "file_C.reset_index(inplace = True, drop = True)"
   ]
  },
  {
   "cell_type": "code",
   "execution_count": 21,
   "id": "05015869-01ea-429e-b72b-057ffcf9be2e",
   "metadata": {
    "execution": {
     "iopub.execute_input": "2025-01-13T16:54:27.225491Z",
     "iopub.status.busy": "2025-01-13T16:54:27.225150Z",
     "iopub.status.idle": "2025-01-13T16:54:27.232669Z",
     "shell.execute_reply": "2025-01-13T16:54:27.232167Z"
    },
    "papermill": {
     "duration": 0.016058,
     "end_time": "2025-01-13T16:54:27.233550",
     "exception": false,
     "start_time": "2025-01-13T16:54:27.217492",
     "status": "completed"
    },
    "tags": []
   },
   "outputs": [
    {
     "data": {
      "text/html": [
       "<div>\n",
       "<style scoped>\n",
       "    .dataframe tbody tr th:only-of-type {\n",
       "        vertical-align: middle;\n",
       "    }\n",
       "\n",
       "    .dataframe tbody tr th {\n",
       "        vertical-align: top;\n",
       "    }\n",
       "\n",
       "    .dataframe thead th {\n",
       "        text-align: right;\n",
       "    }\n",
       "</style>\n",
       "<table border=\"1\" class=\"dataframe\">\n",
       "  <thead>\n",
       "    <tr style=\"text-align: right;\">\n",
       "      <th></th>\n",
       "      <th>Clave</th>\n",
       "      <th>Amparo</th>\n",
       "      <th>numero_siniestro</th>\n",
       "      <th>placa_vehiculo</th>\n",
       "      <th>FechaSin</th>\n",
       "      <th>CedConductor</th>\n",
       "    </tr>\n",
       "  </thead>\n",
       "  <tbody>\n",
       "    <tr>\n",
       "      <th>0</th>\n",
       "      <td>800772</td>\n",
       "      <td>PPD</td>\n",
       "      <td>1067405</td>\n",
       "      <td>ISQ167</td>\n",
       "      <td>2024-01-01</td>\n",
       "      <td>1040043739</td>\n",
       "    </tr>\n",
       "    <tr>\n",
       "      <th>1</th>\n",
       "      <td>800773</td>\n",
       "      <td>PPD</td>\n",
       "      <td>1067406</td>\n",
       "      <td>JGS782</td>\n",
       "      <td>2023-12-31</td>\n",
       "      <td>1061737635</td>\n",
       "    </tr>\n",
       "  </tbody>\n",
       "</table>\n",
       "</div>"
      ],
      "text/plain": [
       "    Clave Amparo numero_siniestro placa_vehiculo   FechaSin CedConductor\n",
       "0  800772    PPD          1067405         ISQ167 2024-01-01   1040043739\n",
       "1  800773    PPD          1067406         JGS782 2023-12-31   1061737635"
      ]
     },
     "execution_count": 21,
     "metadata": {},
     "output_type": "execute_result"
    }
   ],
   "source": [
    "file_C.head(2)"
   ]
  },
  {
   "cell_type": "code",
   "execution_count": 22,
   "id": "05db937f-a57d-4965-aafb-b15e128bdae5",
   "metadata": {
    "execution": {
     "iopub.execute_input": "2025-01-13T16:54:27.248850Z",
     "iopub.status.busy": "2025-01-13T16:54:27.248553Z",
     "iopub.status.idle": "2025-01-13T16:54:27.264545Z",
     "shell.execute_reply": "2025-01-13T16:54:27.264008Z"
    },
    "papermill": {
     "duration": 0.02469,
     "end_time": "2025-01-13T16:54:27.265454",
     "exception": false,
     "start_time": "2025-01-13T16:54:27.240764",
     "status": "completed"
    },
    "tags": []
   },
   "outputs": [],
   "source": [
    "# Filtrar filas con solo números en numero_siniestro\n",
    "file_C = file_C[file_C['numero_siniestro'].apply(lambda x: x.isdigit())]\n",
    "\n",
    "# Convertir la columna 'numero_siniestro' en numérica\n",
    "file_C['numero_siniestro'] = file_C['numero_siniestro'].astype(int)"
   ]
  },
  {
   "cell_type": "code",
   "execution_count": 23,
   "id": "c0ef401a-8f06-4cf1-afe7-eaa9cfb169f8",
   "metadata": {
    "execution": {
     "iopub.execute_input": "2025-01-13T16:54:27.280805Z",
     "iopub.status.busy": "2025-01-13T16:54:27.280509Z",
     "iopub.status.idle": "2025-01-13T16:54:27.285386Z",
     "shell.execute_reply": "2025-01-13T16:54:27.284901Z"
    },
    "papermill": {
     "duration": 0.013573,
     "end_time": "2025-01-13T16:54:27.286271",
     "exception": false,
     "start_time": "2025-01-13T16:54:27.272698",
     "status": "completed"
    },
    "tags": []
   },
   "outputs": [
    {
     "data": {
      "text/plain": [
       "Clave                        int64\n",
       "Amparo                      object\n",
       "numero_siniestro             int64\n",
       "placa_vehiculo              object\n",
       "FechaSin            datetime64[ns]\n",
       "CedConductor                object\n",
       "dtype: object"
      ]
     },
     "execution_count": 23,
     "metadata": {},
     "output_type": "execute_result"
    }
   ],
   "source": [
    "file_C.dtypes"
   ]
  },
  {
   "cell_type": "code",
   "execution_count": 24,
   "id": "53fa89c5-fac0-4002-80fc-84df7c4b0eb4",
   "metadata": {
    "execution": {
     "iopub.execute_input": "2025-01-13T16:54:27.301885Z",
     "iopub.status.busy": "2025-01-13T16:54:27.301586Z",
     "iopub.status.idle": "2025-01-13T16:54:27.321429Z",
     "shell.execute_reply": "2025-01-13T16:54:27.320828Z"
    },
    "papermill": {
     "duration": 0.028812,
     "end_time": "2025-01-13T16:54:27.322493",
     "exception": false,
     "start_time": "2025-01-13T16:54:27.293681",
     "status": "completed"
    },
    "tags": []
   },
   "outputs": [],
   "source": [
    "# Para optimizar el vlookup, primero crearemos un diccionario a partir de df_file_C_filtered para una búsqueda más rápida\n",
    "lookup_dict = file_C.set_index('numero_siniestro')['CedConductor'].to_dict()"
   ]
  },
  {
   "cell_type": "code",
   "execution_count": 25,
   "id": "b446830d-75cf-40f6-82ef-42baca0f28fe",
   "metadata": {
    "execution": {
     "iopub.execute_input": "2025-01-13T16:54:27.338224Z",
     "iopub.status.busy": "2025-01-13T16:54:27.337911Z",
     "iopub.status.idle": "2025-01-13T16:54:27.351569Z",
     "shell.execute_reply": "2025-01-13T16:54:27.351068Z"
    },
    "papermill": {
     "duration": 0.022529,
     "end_time": "2025-01-13T16:54:27.352426",
     "exception": false,
     "start_time": "2025-01-13T16:54:27.329897",
     "status": "completed"
    },
    "tags": []
   },
   "outputs": [
    {
     "data": {
      "text/plain": [
       "['1003404790', '1144036107', '1107514145']"
      ]
     },
     "execution_count": 25,
     "metadata": {},
     "output_type": "execute_result"
    }
   ],
   "source": [
    "cedula_conductor = []\n",
    "for index, value in file_C['numero_siniestro'].items():\n",
    "    ced_conductor = lookup_dict.get(value)\n",
    "    cedula_conductor.append(ced_conductor)\n",
    "\n",
    "cedula_conductor[-3:]"
   ]
  },
  {
   "cell_type": "code",
   "execution_count": 26,
   "id": "829eff9f-8c81-4730-9821-3ad89586f713",
   "metadata": {
    "execution": {
     "iopub.execute_input": "2025-01-13T16:54:27.368244Z",
     "iopub.status.busy": "2025-01-13T16:54:27.367948Z",
     "iopub.status.idle": "2025-01-13T16:54:27.375322Z",
     "shell.execute_reply": "2025-01-13T16:54:27.374811Z"
    },
    "papermill": {
     "duration": 0.016291,
     "end_time": "2025-01-13T16:54:27.376167",
     "exception": false,
     "start_time": "2025-01-13T16:54:27.359876",
     "status": "completed"
    },
    "tags": []
   },
   "outputs": [
    {
     "data": {
      "text/html": [
       "<div>\n",
       "<style scoped>\n",
       "    .dataframe tbody tr th:only-of-type {\n",
       "        vertical-align: middle;\n",
       "    }\n",
       "\n",
       "    .dataframe tbody tr th {\n",
       "        vertical-align: top;\n",
       "    }\n",
       "\n",
       "    .dataframe thead th {\n",
       "        text-align: right;\n",
       "    }\n",
       "</style>\n",
       "<table border=\"1\" class=\"dataframe\">\n",
       "  <thead>\n",
       "    <tr style=\"text-align: right;\">\n",
       "      <th></th>\n",
       "      <th>numero_siniestro</th>\n",
       "      <th>placa_vehiculo</th>\n",
       "      <th>descripcion_riesgo</th>\n",
       "      <th>tipo_iden_aseg</th>\n",
       "      <th>nro_iden_aseg</th>\n",
       "      <th>servicio</th>\n",
       "    </tr>\n",
       "  </thead>\n",
       "  <tbody>\n",
       "    <tr>\n",
       "      <th>0</th>\n",
       "      <td>1126553</td>\n",
       "      <td>KOX390</td>\n",
       "      <td>KOX390 - JEEP - RENEGADE - SPORT MT 1800CC 4X2...</td>\n",
       "      <td>Cédula Ciudadanía</td>\n",
       "      <td>19266175</td>\n",
       "      <td>Particular</td>\n",
       "    </tr>\n",
       "    <tr>\n",
       "      <th>1</th>\n",
       "      <td>1126683</td>\n",
       "      <td>EPM424</td>\n",
       "      <td>EPM424 - MAZDA - CX5 [2] - TOURINGTP 2500C</td>\n",
       "      <td>Cédula Ciudadanía</td>\n",
       "      <td>1088260313</td>\n",
       "      <td>Particular</td>\n",
       "    </tr>\n",
       "  </tbody>\n",
       "</table>\n",
       "</div>"
      ],
      "text/plain": [
       "   numero_siniestro placa_vehiculo  \\\n",
       "0           1126553         KOX390   \n",
       "1           1126683         EPM424   \n",
       "\n",
       "                                  descripcion_riesgo     tipo_iden_aseg  \\\n",
       "0  KOX390 - JEEP - RENEGADE - SPORT MT 1800CC 4X2...  Cédula Ciudadanía   \n",
       "1        EPM424 - MAZDA - CX5 [2] - TOURINGTP 2500C   Cédula Ciudadanía   \n",
       "\n",
       "   nro_iden_aseg    servicio  \n",
       "0       19266175  Particular  \n",
       "1     1088260313  Particular  "
      ]
     },
     "execution_count": 26,
     "metadata": {},
     "output_type": "execute_result"
    }
   ],
   "source": [
    "file_E.head(2)"
   ]
  },
  {
   "cell_type": "code",
   "execution_count": 27,
   "id": "c42c32b0-08fd-469b-8ee3-2c05f36e4e9c",
   "metadata": {
    "execution": {
     "iopub.execute_input": "2025-01-13T16:54:27.392095Z",
     "iopub.status.busy": "2025-01-13T16:54:27.391806Z",
     "iopub.status.idle": "2025-01-13T16:54:27.395822Z",
     "shell.execute_reply": "2025-01-13T16:54:27.395345Z"
    },
    "papermill": {
     "duration": 0.012909,
     "end_time": "2025-01-13T16:54:27.396614",
     "exception": false,
     "start_time": "2025-01-13T16:54:27.383705",
     "status": "completed"
    },
    "tags": []
   },
   "outputs": [
    {
     "data": {
      "text/plain": [
       "dtype('int64')"
      ]
     },
     "execution_count": 27,
     "metadata": {},
     "output_type": "execute_result"
    }
   ],
   "source": [
    "file_E['numero_siniestro'].dtype"
   ]
  },
  {
   "cell_type": "code",
   "execution_count": 28,
   "id": "a1f4cfe7-30ff-43af-b7c4-067ce73b2000",
   "metadata": {
    "execution": {
     "iopub.execute_input": "2025-01-13T16:54:27.413153Z",
     "iopub.status.busy": "2025-01-13T16:54:27.412877Z",
     "iopub.status.idle": "2025-01-13T16:54:27.420199Z",
     "shell.execute_reply": "2025-01-13T16:54:27.419719Z"
    },
    "papermill": {
     "duration": 0.016257,
     "end_time": "2025-01-13T16:54:27.421014",
     "exception": false,
     "start_time": "2025-01-13T16:54:27.404757",
     "status": "completed"
    },
    "tags": []
   },
   "outputs": [
    {
     "data": {
      "text/html": [
       "<div>\n",
       "<style scoped>\n",
       "    .dataframe tbody tr th:only-of-type {\n",
       "        vertical-align: middle;\n",
       "    }\n",
       "\n",
       "    .dataframe tbody tr th {\n",
       "        vertical-align: top;\n",
       "    }\n",
       "\n",
       "    .dataframe thead th {\n",
       "        text-align: right;\n",
       "    }\n",
       "</style>\n",
       "<table border=\"1\" class=\"dataframe\">\n",
       "  <thead>\n",
       "    <tr style=\"text-align: right;\">\n",
       "      <th></th>\n",
       "      <th>Clave</th>\n",
       "      <th>Amparo</th>\n",
       "      <th>numero_siniestro</th>\n",
       "      <th>placa_vehiculo</th>\n",
       "      <th>FechaSin</th>\n",
       "      <th>CedConductor</th>\n",
       "    </tr>\n",
       "  </thead>\n",
       "  <tbody>\n",
       "    <tr>\n",
       "      <th>0</th>\n",
       "      <td>800772</td>\n",
       "      <td>PPD</td>\n",
       "      <td>1067405</td>\n",
       "      <td>ISQ167</td>\n",
       "      <td>2024-01-01</td>\n",
       "      <td>1040043739</td>\n",
       "    </tr>\n",
       "    <tr>\n",
       "      <th>1</th>\n",
       "      <td>800773</td>\n",
       "      <td>PPD</td>\n",
       "      <td>1067406</td>\n",
       "      <td>JGS782</td>\n",
       "      <td>2023-12-31</td>\n",
       "      <td>1061737635</td>\n",
       "    </tr>\n",
       "  </tbody>\n",
       "</table>\n",
       "</div>"
      ],
      "text/plain": [
       "    Clave Amparo  numero_siniestro placa_vehiculo   FechaSin CedConductor\n",
       "0  800772    PPD           1067405         ISQ167 2024-01-01   1040043739\n",
       "1  800773    PPD           1067406         JGS782 2023-12-31   1061737635"
      ]
     },
     "execution_count": 28,
     "metadata": {},
     "output_type": "execute_result"
    }
   ],
   "source": [
    "file_C.head(2)"
   ]
  },
  {
   "cell_type": "code",
   "execution_count": 29,
   "id": "afc002aa-dc27-4c4d-aebb-1c54f5e8d49a",
   "metadata": {
    "execution": {
     "iopub.execute_input": "2025-01-13T16:54:27.437189Z",
     "iopub.status.busy": "2025-01-13T16:54:27.436921Z",
     "iopub.status.idle": "2025-01-13T16:54:27.440811Z",
     "shell.execute_reply": "2025-01-13T16:54:27.440334Z"
    },
    "papermill": {
     "duration": 0.012955,
     "end_time": "2025-01-13T16:54:27.441667",
     "exception": false,
     "start_time": "2025-01-13T16:54:27.428712",
     "status": "completed"
    },
    "tags": []
   },
   "outputs": [
    {
     "data": {
      "text/plain": [
       "dtype('int64')"
      ]
     },
     "execution_count": 29,
     "metadata": {},
     "output_type": "execute_result"
    }
   ],
   "source": [
    "file_C['numero_siniestro'].dtype"
   ]
  },
  {
   "cell_type": "code",
   "execution_count": 30,
   "id": "52dd25a7-29af-4c0d-a274-cabe52dd56a7",
   "metadata": {
    "execution": {
     "iopub.execute_input": "2025-01-13T16:54:27.458318Z",
     "iopub.status.busy": "2025-01-13T16:54:27.458011Z",
     "iopub.status.idle": "2025-01-13T16:54:27.462065Z",
     "shell.execute_reply": "2025-01-13T16:54:27.461586Z"
    },
    "papermill": {
     "duration": 0.013388,
     "end_time": "2025-01-13T16:54:27.462907",
     "exception": false,
     "start_time": "2025-01-13T16:54:27.449519",
     "status": "completed"
    },
    "tags": []
   },
   "outputs": [
    {
     "data": {
      "text/plain": [
       "dtype('<M8[ns]')"
      ]
     },
     "execution_count": 30,
     "metadata": {},
     "output_type": "execute_result"
    }
   ],
   "source": [
    "file_C['FechaSin'].dtype"
   ]
  },
  {
   "cell_type": "code",
   "execution_count": 31,
   "id": "df49a770-fffc-468d-8f34-b49846d69e9d",
   "metadata": {
    "execution": {
     "iopub.execute_input": "2025-01-13T16:54:27.479557Z",
     "iopub.status.busy": "2025-01-13T16:54:27.479272Z",
     "iopub.status.idle": "2025-01-13T16:54:27.490842Z",
     "shell.execute_reply": "2025-01-13T16:54:27.490315Z"
    },
    "papermill": {
     "duration": 0.020889,
     "end_time": "2025-01-13T16:54:27.491669",
     "exception": false,
     "start_time": "2025-01-13T16:54:27.470780",
     "status": "completed"
    },
    "tags": []
   },
   "outputs": [],
   "source": [
    "file_C['FechaSin'] = pd.to_datetime(file_C['FechaSin'])"
   ]
  },
  {
   "cell_type": "code",
   "execution_count": 32,
   "id": "fdada9f6-403e-4b6d-8970-f7c85ac29071",
   "metadata": {
    "execution": {
     "iopub.execute_input": "2025-01-13T16:54:27.508460Z",
     "iopub.status.busy": "2025-01-13T16:54:27.508184Z",
     "iopub.status.idle": "2025-01-13T16:54:27.510928Z",
     "shell.execute_reply": "2025-01-13T16:54:27.510433Z"
    },
    "papermill": {
     "duration": 0.012105,
     "end_time": "2025-01-13T16:54:27.511737",
     "exception": false,
     "start_time": "2025-01-13T16:54:27.499632",
     "status": "completed"
    },
    "tags": []
   },
   "outputs": [],
   "source": [
    "#match = file_C[(file_C['numero_siniestro'] == 0) & (file_C['placa_vehiculo'] == 'HPX193')]\n",
    "#fecha_sin = match.iloc[0]['FechaSin']\n",
    "#fecha_sin"
   ]
  },
  {
   "cell_type": "code",
   "execution_count": 33,
   "id": "63ef378a-ae23-4944-a206-42bf35af8915",
   "metadata": {
    "execution": {
     "iopub.execute_input": "2025-01-13T16:54:27.528693Z",
     "iopub.status.busy": "2025-01-13T16:54:27.528402Z",
     "iopub.status.idle": "2025-01-13T16:54:27.540738Z",
     "shell.execute_reply": "2025-01-13T16:54:27.540240Z"
    },
    "papermill": {
     "duration": 0.021793,
     "end_time": "2025-01-13T16:54:27.541592",
     "exception": false,
     "start_time": "2025-01-13T16:54:27.519799",
     "status": "completed"
    },
    "tags": []
   },
   "outputs": [
    {
     "data": {
      "text/html": [
       "<div>\n",
       "<style scoped>\n",
       "    .dataframe tbody tr th:only-of-type {\n",
       "        vertical-align: middle;\n",
       "    }\n",
       "\n",
       "    .dataframe tbody tr th {\n",
       "        vertical-align: top;\n",
       "    }\n",
       "\n",
       "    .dataframe thead th {\n",
       "        text-align: right;\n",
       "    }\n",
       "</style>\n",
       "<table border=\"1\" class=\"dataframe\">\n",
       "  <thead>\n",
       "    <tr style=\"text-align: right;\">\n",
       "      <th></th>\n",
       "      <th>numero_siniestro</th>\n",
       "      <th>placa_vehiculo</th>\n",
       "      <th>descripcion_riesgo</th>\n",
       "      <th>tipo_iden_aseg</th>\n",
       "      <th>nro_iden_aseg</th>\n",
       "      <th>servicio</th>\n",
       "      <th>nro_iden_conduc</th>\n",
       "      <th>igual</th>\n",
       "    </tr>\n",
       "  </thead>\n",
       "  <tbody>\n",
       "    <tr>\n",
       "      <th>0</th>\n",
       "      <td>1126553</td>\n",
       "      <td>KOX390</td>\n",
       "      <td>KOX390 - JEEP - RENEGADE - SPORT MT 1800CC 4X2...</td>\n",
       "      <td>Cédula Ciudadanía</td>\n",
       "      <td>19266175</td>\n",
       "      <td>Particular</td>\n",
       "      <td>None</td>\n",
       "      <td>False</td>\n",
       "    </tr>\n",
       "    <tr>\n",
       "      <th>1</th>\n",
       "      <td>1126683</td>\n",
       "      <td>EPM424</td>\n",
       "      <td>EPM424 - MAZDA - CX5 [2] - TOURINGTP 2500C</td>\n",
       "      <td>Cédula Ciudadanía</td>\n",
       "      <td>1088260313</td>\n",
       "      <td>Particular</td>\n",
       "      <td>None</td>\n",
       "      <td>False</td>\n",
       "    </tr>\n",
       "  </tbody>\n",
       "</table>\n",
       "</div>"
      ],
      "text/plain": [
       "   numero_siniestro placa_vehiculo  \\\n",
       "0           1126553         KOX390   \n",
       "1           1126683         EPM424   \n",
       "\n",
       "                                  descripcion_riesgo     tipo_iden_aseg  \\\n",
       "0  KOX390 - JEEP - RENEGADE - SPORT MT 1800CC 4X2...  Cédula Ciudadanía   \n",
       "1        EPM424 - MAZDA - CX5 [2] - TOURINGTP 2500C   Cédula Ciudadanía   \n",
       "\n",
       "   nro_iden_aseg    servicio nro_iden_conduc  igual  \n",
       "0       19266175  Particular            None  False  \n",
       "1     1088260313  Particular            None  False  "
      ]
     },
     "execution_count": 33,
     "metadata": {},
     "output_type": "execute_result"
    }
   ],
   "source": [
    "# Función para realizar la operación vlookup-like\n",
    "def vlookup(row):\n",
    "    # Búsqueda por numero_siniestro\n",
    "    numero_siniestro = row['numero_siniestro']\n",
    "    ced_conductor = lookup_dict.get(numero_siniestro)\n",
    "\n",
    "    if pd.isna(ced_conductor) and numero_siniestro == 0:\n",
    "        # Si numero_siniestro es 0, intente vlookup por placa_vehiculo\n",
    "        placa_vehiculo = row['placa_vehiculo']\n",
    "        match = file_C[(file_C['numero_siniestro'] == 0) & (file_C['placa_vehiculo'] == placa_vehiculo)]\n",
    "        if not match.empty:\n",
    "            # Revisar si FechaSin está dentro del último mes\n",
    "            fecha_sin = match.iloc[0]['FechaSin']\n",
    "            current_date = datetime.today()\n",
    "            if isinstance(fecha_sin, datetime) and fecha_sin > (current_date - timedelta(days=30)):\n",
    "                ced_conductor = match.iloc[0]['CedConductor']\n",
    "\n",
    "    return ced_conductor\n",
    "\n",
    "\n",
    "# Aplicar la función optimizada vlookup a file_E\n",
    "file_E['nro_iden_conduc'] = file_E.apply(vlookup, axis=1)\n",
    "\n",
    "# Comprobar si nro_iden_conduc coincide con nro_iden_aseg\n",
    "file_E['igual'] = file_E['nro_iden_conduc'] == file_E['nro_iden_aseg']\n",
    "\n",
    "# Visualización de las primeras filas para la verificación\n",
    "file_E.head(2)"
   ]
  },
  {
   "cell_type": "code",
   "execution_count": 34,
   "id": "317ce3a3-e446-4fd8-8159-ed606822d84a",
   "metadata": {
    "execution": {
     "iopub.execute_input": "2025-01-13T16:54:27.558714Z",
     "iopub.status.busy": "2025-01-13T16:54:27.558422Z",
     "iopub.status.idle": "2025-01-13T16:54:27.561762Z",
     "shell.execute_reply": "2025-01-13T16:54:27.561240Z"
    },
    "papermill": {
     "duration": 0.012871,
     "end_time": "2025-01-13T16:54:27.562577",
     "exception": false,
     "start_time": "2025-01-13T16:54:27.549706",
     "status": "completed"
    },
    "tags": []
   },
   "outputs": [],
   "source": [
    "file_E[\"igual\"] = file_E[\"igual\"].astype(int)"
   ]
  },
  {
   "cell_type": "code",
   "execution_count": 35,
   "id": "001bbb68-828a-43e6-b395-a84c7e5ee1ca",
   "metadata": {
    "execution": {
     "iopub.execute_input": "2025-01-13T16:54:27.579597Z",
     "iopub.status.busy": "2025-01-13T16:54:27.579319Z",
     "iopub.status.idle": "2025-01-13T16:54:27.583607Z",
     "shell.execute_reply": "2025-01-13T16:54:27.583128Z"
    },
    "papermill": {
     "duration": 0.013772,
     "end_time": "2025-01-13T16:54:27.584425",
     "exception": false,
     "start_time": "2025-01-13T16:54:27.570653",
     "status": "completed"
    },
    "tags": []
   },
   "outputs": [
    {
     "data": {
      "text/plain": [
       "np.int64(122)"
      ]
     },
     "execution_count": 35,
     "metadata": {},
     "output_type": "execute_result"
    }
   ],
   "source": [
    "file_E['nro_iden_conduc'].isnull().sum()"
   ]
  },
  {
   "cell_type": "code",
   "execution_count": 36,
   "id": "7898a9f3-4961-4899-90a9-d2121fd569cf",
   "metadata": {
    "execution": {
     "iopub.execute_input": "2025-01-13T16:54:27.601710Z",
     "iopub.status.busy": "2025-01-13T16:54:27.601409Z",
     "iopub.status.idle": "2025-01-13T16:54:27.604182Z",
     "shell.execute_reply": "2025-01-13T16:54:27.603695Z"
    },
    "papermill": {
     "duration": 0.012331,
     "end_time": "2025-01-13T16:54:27.604945",
     "exception": false,
     "start_time": "2025-01-13T16:54:27.592614",
     "status": "completed"
    },
    "tags": []
   },
   "outputs": [],
   "source": [
    "# Ahora, vamos a replicar el último paso pero usando el archivo D y en los casos en los que aún faltaba nro_iden_conduc en el archivo E"
   ]
  },
  {
   "cell_type": "code",
   "execution_count": 37,
   "id": "737452ff-bd35-428c-a61b-4d091f525a07",
   "metadata": {
    "execution": {
     "iopub.execute_input": "2025-01-13T16:54:27.622118Z",
     "iopub.status.busy": "2025-01-13T16:54:27.621842Z",
     "iopub.status.idle": "2025-01-13T16:54:28.379563Z",
     "shell.execute_reply": "2025-01-13T16:54:28.379053Z"
    },
    "papermill": {
     "duration": 0.767335,
     "end_time": "2025-01-13T16:54:28.380416",
     "exception": false,
     "start_time": "2025-01-13T16:54:27.613081",
     "status": "completed"
    },
    "tags": []
   },
   "outputs": [
    {
     "name": "stderr",
     "output_type": "stream",
     "text": [
      "/tmp/ipykernel_25480/2521107428.py:3: DtypeWarning: Columns (48,80,89,90,95,106,108,118,136,147) have mixed types. Specify dtype option on import or set low_memory=False.\n",
      "  df_file_D = pd.read_csv(\"claims_sipo_adp_2025-01-12.csv\") #SIPO email\n"
     ]
    },
    {
     "data": {
      "text/html": [
       "<div>\n",
       "<style scoped>\n",
       "    .dataframe tbody tr th:only-of-type {\n",
       "        vertical-align: middle;\n",
       "    }\n",
       "\n",
       "    .dataframe tbody tr th {\n",
       "        vertical-align: top;\n",
       "    }\n",
       "\n",
       "    .dataframe thead th {\n",
       "        text-align: right;\n",
       "    }\n",
       "</style>\n",
       "<table border=\"1\" class=\"dataframe\">\n",
       "  <thead>\n",
       "    <tr style=\"text-align: right;\">\n",
       "      <th></th>\n",
       "      <th>numero_siniestro</th>\n",
       "      <th>placa_vehiculo</th>\n",
       "      <th>descripcion_riesgo</th>\n",
       "      <th>tipo_iden_aseg</th>\n",
       "      <th>nro_iden_aseg</th>\n",
       "      <th>servicio</th>\n",
       "      <th>nro_iden_conduc</th>\n",
       "      <th>igual</th>\n",
       "    </tr>\n",
       "  </thead>\n",
       "  <tbody>\n",
       "    <tr>\n",
       "      <th>0</th>\n",
       "      <td>1126553</td>\n",
       "      <td>KOX390</td>\n",
       "      <td>KOX390 - JEEP - RENEGADE - SPORT MT 1800CC 4X2...</td>\n",
       "      <td>Cédula Ciudadanía</td>\n",
       "      <td>19266175</td>\n",
       "      <td>Particular</td>\n",
       "      <td>19266175.0</td>\n",
       "      <td>0</td>\n",
       "    </tr>\n",
       "    <tr>\n",
       "      <th>1</th>\n",
       "      <td>1126683</td>\n",
       "      <td>EPM424</td>\n",
       "      <td>EPM424 - MAZDA - CX5 [2] - TOURINGTP 2500C</td>\n",
       "      <td>Cédula Ciudadanía</td>\n",
       "      <td>1088260313</td>\n",
       "      <td>Particular</td>\n",
       "      <td>None</td>\n",
       "      <td>0</td>\n",
       "    </tr>\n",
       "    <tr>\n",
       "      <th>2</th>\n",
       "      <td>1126594</td>\n",
       "      <td>NJP712</td>\n",
       "      <td>NJP712 - VOLKSWAGEN - NIVUS - COMFORTLINE TP 1...</td>\n",
       "      <td>Cédula Ciudadanía</td>\n",
       "      <td>79304704</td>\n",
       "      <td>Particular</td>\n",
       "      <td>79304704.0</td>\n",
       "      <td>0</td>\n",
       "    </tr>\n",
       "    <tr>\n",
       "      <th>3</th>\n",
       "      <td>1126588</td>\n",
       "      <td>LLO507</td>\n",
       "      <td>LLO507 - KIA - PICANTO [3] - VIBRANTMT 1250C</td>\n",
       "      <td>Cédula Ciudadanía</td>\n",
       "      <td>32711460</td>\n",
       "      <td>Particular</td>\n",
       "      <td>32711460.0</td>\n",
       "      <td>0</td>\n",
       "    </tr>\n",
       "    <tr>\n",
       "      <th>4</th>\n",
       "      <td>1126589</td>\n",
       "      <td>IPX437</td>\n",
       "      <td>IPX437 - KIA - CERATO GEO - 1.6 MT 1600CC AB TC</td>\n",
       "      <td>Cédula Ciudadanía</td>\n",
       "      <td>66827858</td>\n",
       "      <td>Particular</td>\n",
       "      <td>66827858.0</td>\n",
       "      <td>0</td>\n",
       "    </tr>\n",
       "  </tbody>\n",
       "</table>\n",
       "</div>"
      ],
      "text/plain": [
       "   numero_siniestro placa_vehiculo  \\\n",
       "0           1126553         KOX390   \n",
       "1           1126683         EPM424   \n",
       "2           1126594         NJP712   \n",
       "3           1126588         LLO507   \n",
       "4           1126589         IPX437   \n",
       "\n",
       "                                  descripcion_riesgo     tipo_iden_aseg  \\\n",
       "0  KOX390 - JEEP - RENEGADE - SPORT MT 1800CC 4X2...  Cédula Ciudadanía   \n",
       "1        EPM424 - MAZDA - CX5 [2] - TOURINGTP 2500C   Cédula Ciudadanía   \n",
       "2  NJP712 - VOLKSWAGEN - NIVUS - COMFORTLINE TP 1...  Cédula Ciudadanía   \n",
       "3      LLO507 - KIA - PICANTO [3] - VIBRANTMT 1250C   Cédula Ciudadanía   \n",
       "4   IPX437 - KIA - CERATO GEO - 1.6 MT 1600CC AB TC   Cédula Ciudadanía   \n",
       "\n",
       "   nro_iden_aseg    servicio nro_iden_conduc  igual  \n",
       "0       19266175  Particular      19266175.0      0  \n",
       "1     1088260313  Particular            None      0  \n",
       "2       79304704  Particular      79304704.0      0  \n",
       "3       32711460  Particular      32711460.0      0  \n",
       "4       66827858  Particular      66827858.0      0  "
      ]
     },
     "execution_count": 37,
     "metadata": {},
     "output_type": "execute_result"
    }
   ],
   "source": [
    "# Cargar file_D \n",
    "\n",
    "df_file_D = pd.read_csv(\"claims_sipo_adp_2025-01-12.csv\") #SIPO email\n",
    "df_file_D.to_csv('file_D.csv', index = False)\n",
    "\n",
    "# Mantenga solo las columnas específicas y cámbieles el nombre en file_D\n",
    "columns_to_keep_D = ['clave', 'amparo', 'siniestro', 'placa', 'cedconductor']\n",
    "rename_columns_D = {'siniestro': 'numero_siniestro', 'placa': 'placa_vehiculo'}\n",
    "file_D = df_file_D[columns_to_keep_D].rename(columns=rename_columns_D)\n",
    "\n",
    "# Convertir 'numero_siniestro' a numérico\n",
    "file_D['numero_siniestro'] = pd.to_numeric(file_D['numero_siniestro'], errors='coerce')\n",
    "file_D['cedconductor'] = pd.to_numeric(file_D['cedconductor'], errors='coerce')\n",
    "\n",
    "# Crear un diccionario para lookup de file_D\n",
    "lookup_dict_D = file_D.set_index('numero_siniestro')['cedconductor'].to_dict()\n",
    "\n",
    "# Función para realizar vlookup para los valores faltantes en file_E usando file_D\n",
    "def vlookup_missing_values(row):\n",
    "    if pd.isna(row['nro_iden_conduc']):\n",
    "        # Primer intento de coincidencia por numero_siniestro de file_D\n",
    "        numero_siniestro = row['numero_siniestro']\n",
    "        ced_conductor = lookup_dict_D.get(numero_siniestro)\n",
    "\n",
    "        if pd.isna(ced_conductor) and numero_siniestro == 0:\n",
    "            # Si numero_siniestro es 0, intente vlookup por placa_vehiculo\n",
    "            placa_vehiculo = row['placa_vehiculo']\n",
    "            match = file_D[(file_D['numero_siniestro'] == 0) & \n",
    "                                       (file_D['placa_vehiculo'] == placa_vehiculo)]\n",
    "            if not match.empty:\n",
    "                ced_conductor = match.iloc[0]['cedconductor']\n",
    "\n",
    "        return ced_conductor\n",
    "    else:\n",
    "        return row['nro_iden_conduc']\n",
    "\n",
    "# Aplicar la función a file_E\n",
    "file_E['nro_iden_conduc'] = file_E.apply(vlookup_missing_values, axis=1)\n",
    "\n",
    "# Visualización de las primeras filas para la verificación\n",
    "file_E.head()"
   ]
  },
  {
   "cell_type": "code",
   "execution_count": 38,
   "id": "c0dba08e-8453-4fd4-88f5-3fab66721206",
   "metadata": {
    "execution": {
     "iopub.execute_input": "2025-01-13T16:54:28.398512Z",
     "iopub.status.busy": "2025-01-13T16:54:28.398196Z",
     "iopub.status.idle": "2025-01-13T16:54:28.403043Z",
     "shell.execute_reply": "2025-01-13T16:54:28.402552Z"
    },
    "papermill": {
     "duration": 0.014703,
     "end_time": "2025-01-13T16:54:28.403866",
     "exception": false,
     "start_time": "2025-01-13T16:54:28.389163",
     "status": "completed"
    },
    "tags": []
   },
   "outputs": [
    {
     "data": {
      "text/plain": [
       "numero_siniestro       int64\n",
       "placa_vehiculo        object\n",
       "descripcion_riesgo    object\n",
       "tipo_iden_aseg        object\n",
       "nro_iden_aseg          int64\n",
       "servicio              object\n",
       "nro_iden_conduc       object\n",
       "igual                  int64\n",
       "dtype: object"
      ]
     },
     "execution_count": 38,
     "metadata": {},
     "output_type": "execute_result"
    }
   ],
   "source": [
    "file_E.dtypes"
   ]
  },
  {
   "cell_type": "code",
   "execution_count": 39,
   "id": "4d92faee-d5fa-4c57-ad86-5ca098865024",
   "metadata": {
    "execution": {
     "iopub.execute_input": "2025-01-13T16:54:28.421833Z",
     "iopub.status.busy": "2025-01-13T16:54:28.421548Z",
     "iopub.status.idle": "2025-01-13T16:54:28.434986Z",
     "shell.execute_reply": "2025-01-13T16:54:28.434494Z"
    },
    "papermill": {
     "duration": 0.023417,
     "end_time": "2025-01-13T16:54:28.435809",
     "exception": false,
     "start_time": "2025-01-13T16:54:28.412392",
     "status": "completed"
    },
    "tags": []
   },
   "outputs": [
    {
     "data": {
      "text/html": [
       "<div>\n",
       "<style scoped>\n",
       "    .dataframe tbody tr th:only-of-type {\n",
       "        vertical-align: middle;\n",
       "    }\n",
       "\n",
       "    .dataframe tbody tr th {\n",
       "        vertical-align: top;\n",
       "    }\n",
       "\n",
       "    .dataframe thead th {\n",
       "        text-align: right;\n",
       "    }\n",
       "</style>\n",
       "<table border=\"1\" class=\"dataframe\">\n",
       "  <thead>\n",
       "    <tr style=\"text-align: right;\">\n",
       "      <th></th>\n",
       "      <th>numero_siniestro</th>\n",
       "      <th>placa_vehiculo</th>\n",
       "      <th>descripcion_riesgo</th>\n",
       "      <th>tipo_iden_aseg</th>\n",
       "      <th>nro_iden_aseg</th>\n",
       "      <th>servicio</th>\n",
       "      <th>nro_iden_conduc</th>\n",
       "      <th>igual</th>\n",
       "    </tr>\n",
       "  </thead>\n",
       "  <tbody>\n",
       "    <tr>\n",
       "      <th>0</th>\n",
       "      <td>1126553</td>\n",
       "      <td>KOX390</td>\n",
       "      <td>KOX390 - JEEP - RENEGADE - SPORT MT 1800CC 4X2...</td>\n",
       "      <td>Cédula Ciudadanía</td>\n",
       "      <td>19266175</td>\n",
       "      <td>Particular</td>\n",
       "      <td>19266175.0</td>\n",
       "      <td>0</td>\n",
       "    </tr>\n",
       "    <tr>\n",
       "      <th>1</th>\n",
       "      <td>1126683</td>\n",
       "      <td>EPM424</td>\n",
       "      <td>EPM424 - MAZDA - CX5 [2] - TOURINGTP 2500C</td>\n",
       "      <td>Cédula Ciudadanía</td>\n",
       "      <td>1088260313</td>\n",
       "      <td>Particular</td>\n",
       "      <td>None</td>\n",
       "      <td>0</td>\n",
       "    </tr>\n",
       "  </tbody>\n",
       "</table>\n",
       "</div>"
      ],
      "text/plain": [
       "   numero_siniestro placa_vehiculo  \\\n",
       "0           1126553         KOX390   \n",
       "1           1126683         EPM424   \n",
       "\n",
       "                                  descripcion_riesgo     tipo_iden_aseg  \\\n",
       "0  KOX390 - JEEP - RENEGADE - SPORT MT 1800CC 4X2...  Cédula Ciudadanía   \n",
       "1        EPM424 - MAZDA - CX5 [2] - TOURINGTP 2500C   Cédula Ciudadanía   \n",
       "\n",
       "  nro_iden_aseg    servicio nro_iden_conduc  igual  \n",
       "0      19266175  Particular      19266175.0      0  \n",
       "1    1088260313  Particular            None      0  "
      ]
     },
     "execution_count": 39,
     "metadata": {},
     "output_type": "execute_result"
    }
   ],
   "source": [
    "# Función para ajustar la longitud de los números en nro_iden_aseg y nro_iden_conduc para tipo_iden_aseg = 'NIT'\n",
    "def adjust_number_length(row):\n",
    "    if row['tipo_iden_aseg'] == 'NIT':\n",
    "        # Ajustar nro_iden_aseg\n",
    "        if len(str(row['nro_iden_aseg'])) > 9:\n",
    "            row['nro_iden_aseg'] = str(row['nro_iden_aseg'])[:9]\n",
    "\n",
    "            # Si nro_iden_conduc era el mismo que nro_iden_aseg antes de la manteca, ajústelo también\n",
    "            if row['nro_iden_conduc'] == row['nro_iden_aseg']:\n",
    "                row['nro_iden_conduc'] = row['nro_iden_aseg']\n",
    "\n",
    "    return row\n",
    "\n",
    "# Aplicvar la función a file_E\n",
    "file_E = file_E.apply(adjust_number_length, axis=1)\n",
    "\n",
    "# Visualización de las primeras filas para la verificación\n",
    "file_E.head(2)"
   ]
  },
  {
   "cell_type": "code",
   "execution_count": 40,
   "id": "ee524d35-4a84-4d64-ab0f-9426a1e08def",
   "metadata": {
    "execution": {
     "iopub.execute_input": "2025-01-13T16:54:28.453987Z",
     "iopub.status.busy": "2025-01-13T16:54:28.453712Z",
     "iopub.status.idle": "2025-01-13T16:54:28.480655Z",
     "shell.execute_reply": "2025-01-13T16:54:28.480102Z"
    },
    "papermill": {
     "duration": 0.037122,
     "end_time": "2025-01-13T16:54:28.481634",
     "exception": false,
     "start_time": "2025-01-13T16:54:28.444512",
     "status": "completed"
    },
    "tags": []
   },
   "outputs": [],
   "source": [
    "file_E.to_excel(\"filef.xlsx\")"
   ]
  },
  {
   "cell_type": "code",
   "execution_count": 41,
   "id": "d4ba4210-0796-45e2-81d4-d52dcb1eb3f6",
   "metadata": {
    "execution": {
     "iopub.execute_input": "2025-01-13T16:54:28.500247Z",
     "iopub.status.busy": "2025-01-13T16:54:28.499950Z",
     "iopub.status.idle": "2025-01-13T16:54:28.504857Z",
     "shell.execute_reply": "2025-01-13T16:54:28.504387Z"
    },
    "papermill": {
     "duration": 0.015116,
     "end_time": "2025-01-13T16:54:28.505709",
     "exception": false,
     "start_time": "2025-01-13T16:54:28.490593",
     "status": "completed"
    },
    "tags": []
   },
   "outputs": [
    {
     "data": {
      "text/plain": [
       "numero_siniestro       int64\n",
       "placa_vehiculo        object\n",
       "descripcion_riesgo    object\n",
       "tipo_iden_aseg        object\n",
       "nro_iden_aseg         object\n",
       "servicio              object\n",
       "nro_iden_conduc       object\n",
       "igual                  int64\n",
       "dtype: object"
      ]
     },
     "execution_count": 41,
     "metadata": {},
     "output_type": "execute_result"
    }
   ],
   "source": [
    "file_E.dtypes"
   ]
  },
  {
   "cell_type": "code",
   "execution_count": 42,
   "id": "a26def6c-1b7f-42af-9923-a881dc4032cd",
   "metadata": {
    "execution": {
     "iopub.execute_input": "2025-01-13T16:54:28.524342Z",
     "iopub.status.busy": "2025-01-13T16:54:28.524047Z",
     "iopub.status.idle": "2025-01-13T16:54:28.527707Z",
     "shell.execute_reply": "2025-01-13T16:54:28.527202Z"
    },
    "papermill": {
     "duration": 0.013822,
     "end_time": "2025-01-13T16:54:28.528489",
     "exception": false,
     "start_time": "2025-01-13T16:54:28.514667",
     "status": "completed"
    },
    "tags": []
   },
   "outputs": [],
   "source": [
    "file_E['nro_iden_aseg'] = pd.to_numeric(file_E['nro_iden_aseg'], errors='coerce')"
   ]
  },
  {
   "cell_type": "code",
   "execution_count": 43,
   "id": "826f3446-0173-43a8-b659-544a8fee96ee",
   "metadata": {
    "execution": {
     "iopub.execute_input": "2025-01-13T16:54:28.546912Z",
     "iopub.status.busy": "2025-01-13T16:54:28.546627Z",
     "iopub.status.idle": "2025-01-13T16:54:28.550885Z",
     "shell.execute_reply": "2025-01-13T16:54:28.550408Z"
    },
    "papermill": {
     "duration": 0.014455,
     "end_time": "2025-01-13T16:54:28.551688",
     "exception": false,
     "start_time": "2025-01-13T16:54:28.537233",
     "status": "completed"
    },
    "tags": []
   },
   "outputs": [
    {
     "data": {
      "text/plain": [
       "np.int64(4)"
      ]
     },
     "execution_count": 43,
     "metadata": {},
     "output_type": "execute_result"
    }
   ],
   "source": [
    "file_E['nro_iden_conduc'].isnull().sum()"
   ]
  },
  {
   "cell_type": "code",
   "execution_count": 44,
   "id": "30ee4ab9-ba53-45de-adab-54252247c0df",
   "metadata": {
    "execution": {
     "iopub.execute_input": "2025-01-13T16:54:28.570290Z",
     "iopub.status.busy": "2025-01-13T16:54:28.570003Z",
     "iopub.status.idle": "2025-01-13T16:54:28.583608Z",
     "shell.execute_reply": "2025-01-13T16:54:28.583116Z"
    },
    "papermill": {
     "duration": 0.02388,
     "end_time": "2025-01-13T16:54:28.584423",
     "exception": false,
     "start_time": "2025-01-13T16:54:28.560543",
     "status": "completed"
    },
    "tags": []
   },
   "outputs": [
    {
     "data": {
      "text/html": [
       "<div>\n",
       "<style scoped>\n",
       "    .dataframe tbody tr th:only-of-type {\n",
       "        vertical-align: middle;\n",
       "    }\n",
       "\n",
       "    .dataframe tbody tr th {\n",
       "        vertical-align: top;\n",
       "    }\n",
       "\n",
       "    .dataframe thead th {\n",
       "        text-align: right;\n",
       "    }\n",
       "</style>\n",
       "<table border=\"1\" class=\"dataframe\">\n",
       "  <thead>\n",
       "    <tr style=\"text-align: right;\">\n",
       "      <th></th>\n",
       "      <th>numero_siniestro</th>\n",
       "      <th>placa_vehiculo</th>\n",
       "      <th>descripcion_riesgo</th>\n",
       "      <th>tipo_iden_aseg</th>\n",
       "      <th>nro_iden_aseg</th>\n",
       "      <th>servicio</th>\n",
       "      <th>nro_iden_conduc</th>\n",
       "      <th>igual</th>\n",
       "    </tr>\n",
       "  </thead>\n",
       "  <tbody>\n",
       "    <tr>\n",
       "      <th>0</th>\n",
       "      <td>1126553</td>\n",
       "      <td>KOX390</td>\n",
       "      <td>KOX390 - JEEP - RENEGADE - SPORT MT 1800CC 4X2...</td>\n",
       "      <td>Cédula Ciudadanía</td>\n",
       "      <td>19266175</td>\n",
       "      <td>Particular</td>\n",
       "      <td>19266175.0</td>\n",
       "      <td>0</td>\n",
       "    </tr>\n",
       "    <tr>\n",
       "      <th>1</th>\n",
       "      <td>1126683</td>\n",
       "      <td>EPM424</td>\n",
       "      <td>EPM424 - MAZDA - CX5 [2] - TOURINGTP 2500C</td>\n",
       "      <td>Cédula Ciudadanía</td>\n",
       "      <td>1088260313</td>\n",
       "      <td>Particular</td>\n",
       "      <td>None</td>\n",
       "      <td>0</td>\n",
       "    </tr>\n",
       "    <tr>\n",
       "      <th>2</th>\n",
       "      <td>1126594</td>\n",
       "      <td>NJP712</td>\n",
       "      <td>NJP712 - VOLKSWAGEN - NIVUS - COMFORTLINE TP 1...</td>\n",
       "      <td>Cédula Ciudadanía</td>\n",
       "      <td>79304704</td>\n",
       "      <td>Particular</td>\n",
       "      <td>79304704.0</td>\n",
       "      <td>0</td>\n",
       "    </tr>\n",
       "    <tr>\n",
       "      <th>3</th>\n",
       "      <td>1126588</td>\n",
       "      <td>LLO507</td>\n",
       "      <td>LLO507 - KIA - PICANTO [3] - VIBRANTMT 1250C</td>\n",
       "      <td>Cédula Ciudadanía</td>\n",
       "      <td>32711460</td>\n",
       "      <td>Particular</td>\n",
       "      <td>32711460.0</td>\n",
       "      <td>0</td>\n",
       "    </tr>\n",
       "    <tr>\n",
       "      <th>4</th>\n",
       "      <td>1126589</td>\n",
       "      <td>IPX437</td>\n",
       "      <td>IPX437 - KIA - CERATO GEO - 1.6 MT 1600CC AB TC</td>\n",
       "      <td>Cédula Ciudadanía</td>\n",
       "      <td>66827858</td>\n",
       "      <td>Particular</td>\n",
       "      <td>66827858.0</td>\n",
       "      <td>0</td>\n",
       "    </tr>\n",
       "  </tbody>\n",
       "</table>\n",
       "</div>"
      ],
      "text/plain": [
       "   numero_siniestro placa_vehiculo  \\\n",
       "0           1126553         KOX390   \n",
       "1           1126683         EPM424   \n",
       "2           1126594         NJP712   \n",
       "3           1126588         LLO507   \n",
       "4           1126589         IPX437   \n",
       "\n",
       "                                  descripcion_riesgo     tipo_iden_aseg  \\\n",
       "0  KOX390 - JEEP - RENEGADE - SPORT MT 1800CC 4X2...  Cédula Ciudadanía   \n",
       "1        EPM424 - MAZDA - CX5 [2] - TOURINGTP 2500C   Cédula Ciudadanía   \n",
       "2  NJP712 - VOLKSWAGEN - NIVUS - COMFORTLINE TP 1...  Cédula Ciudadanía   \n",
       "3      LLO507 - KIA - PICANTO [3] - VIBRANTMT 1250C   Cédula Ciudadanía   \n",
       "4   IPX437 - KIA - CERATO GEO - 1.6 MT 1600CC AB TC   Cédula Ciudadanía   \n",
       "\n",
       "   nro_iden_aseg    servicio nro_iden_conduc  igual  \n",
       "0       19266175  Particular      19266175.0      0  \n",
       "1     1088260313  Particular            None      0  \n",
       "2       79304704  Particular      79304704.0      0  \n",
       "3       32711460  Particular      32711460.0      0  \n",
       "4       66827858  Particular      66827858.0      0  "
      ]
     },
     "execution_count": 44,
     "metadata": {},
     "output_type": "execute_result"
    }
   ],
   "source": [
    "# Ajustando la longitud de 'nro_iden_conduc' para tipo_iden_aseg = 'NIT' e igual = 1\n",
    "def adjust_nro_iden_conduc_length(row):\n",
    "    if row['tipo_iden_aseg'] == 'NIT' and row['igual'] == 1:\n",
    "        # Asegúrese de que nro_iden_conduc sea una cadena para la comprobación de longitud\n",
    "        nro_iden_conduc_str = str(row['nro_iden_conduc'])\n",
    "\n",
    "        if len(nro_iden_conduc_str) > 9:\n",
    "            # Reducir a los primeros 9 números\n",
    "            row['nro_iden_conduc'] = nro_iden_conduc_str[:9]\n",
    "\n",
    "    return row\n",
    "\n",
    "# Aplicar la función a file_E\n",
    "file_E = file_E.apply(adjust_nro_iden_conduc_length, axis=1)\n",
    "\n",
    "# Visualización de las primeras filas para la verificación\n",
    "file_E.head()\n"
   ]
  },
  {
   "cell_type": "code",
   "execution_count": 45,
   "id": "b0b52c21-cb8c-4fc4-a0ba-c12305b07f8e",
   "metadata": {
    "execution": {
     "iopub.execute_input": "2025-01-13T16:54:28.603706Z",
     "iopub.status.busy": "2025-01-13T16:54:28.603412Z",
     "iopub.status.idle": "2025-01-13T16:54:28.608225Z",
     "shell.execute_reply": "2025-01-13T16:54:28.607756Z"
    },
    "papermill": {
     "duration": 0.015278,
     "end_time": "2025-01-13T16:54:28.609017",
     "exception": false,
     "start_time": "2025-01-13T16:54:28.593739",
     "status": "completed"
    },
    "tags": []
   },
   "outputs": [
    {
     "data": {
      "text/plain": [
       "numero_siniestro       int64\n",
       "placa_vehiculo        object\n",
       "descripcion_riesgo    object\n",
       "tipo_iden_aseg        object\n",
       "nro_iden_aseg          int64\n",
       "servicio              object\n",
       "nro_iden_conduc       object\n",
       "igual                  int64\n",
       "dtype: object"
      ]
     },
     "execution_count": 45,
     "metadata": {},
     "output_type": "execute_result"
    }
   ],
   "source": [
    "file_E.dtypes"
   ]
  },
  {
   "cell_type": "code",
   "execution_count": 46,
   "id": "a49c3ed2-1414-42a7-a43b-2f03168a428e",
   "metadata": {
    "execution": {
     "iopub.execute_input": "2025-01-13T16:54:28.628020Z",
     "iopub.status.busy": "2025-01-13T16:54:28.627753Z",
     "iopub.status.idle": "2025-01-13T16:54:28.631140Z",
     "shell.execute_reply": "2025-01-13T16:54:28.630648Z"
    },
    "papermill": {
     "duration": 0.013791,
     "end_time": "2025-01-13T16:54:28.631909",
     "exception": false,
     "start_time": "2025-01-13T16:54:28.618118",
     "status": "completed"
    },
    "tags": []
   },
   "outputs": [],
   "source": [
    "file_E['nro_iden_conduc'] = pd.to_numeric(file_E['nro_iden_conduc'], errors='coerce')"
   ]
  },
  {
   "cell_type": "code",
   "execution_count": 47,
   "id": "d9a896a0-d513-4d9e-8d01-96e5dd6a2201",
   "metadata": {
    "execution": {
     "iopub.execute_input": "2025-01-13T16:54:28.650834Z",
     "iopub.status.busy": "2025-01-13T16:54:28.650568Z",
     "iopub.status.idle": "2025-01-13T16:54:28.655285Z",
     "shell.execute_reply": "2025-01-13T16:54:28.654817Z"
    },
    "papermill": {
     "duration": 0.01515,
     "end_time": "2025-01-13T16:54:28.656099",
     "exception": false,
     "start_time": "2025-01-13T16:54:28.640949",
     "status": "completed"
    },
    "tags": []
   },
   "outputs": [
    {
     "data": {
      "text/plain": [
       "numero_siniestro        int64\n",
       "placa_vehiculo         object\n",
       "descripcion_riesgo     object\n",
       "tipo_iden_aseg         object\n",
       "nro_iden_aseg           int64\n",
       "servicio               object\n",
       "nro_iden_conduc       float64\n",
       "igual                   int64\n",
       "dtype: object"
      ]
     },
     "execution_count": 47,
     "metadata": {},
     "output_type": "execute_result"
    }
   ],
   "source": [
    "file_E.dtypes"
   ]
  },
  {
   "cell_type": "code",
   "execution_count": 48,
   "id": "5592943c-d158-4b33-82a8-f984177450a8",
   "metadata": {
    "execution": {
     "iopub.execute_input": "2025-01-13T16:54:28.675356Z",
     "iopub.status.busy": "2025-01-13T16:54:28.675085Z",
     "iopub.status.idle": "2025-01-13T16:54:28.685714Z",
     "shell.execute_reply": "2025-01-13T16:54:28.685215Z"
    },
    "papermill": {
     "duration": 0.021306,
     "end_time": "2025-01-13T16:54:28.686583",
     "exception": false,
     "start_time": "2025-01-13T16:54:28.665277",
     "status": "completed"
    },
    "tags": []
   },
   "outputs": [
    {
     "data": {
      "text/html": [
       "<div>\n",
       "<style scoped>\n",
       "    .dataframe tbody tr th:only-of-type {\n",
       "        vertical-align: middle;\n",
       "    }\n",
       "\n",
       "    .dataframe tbody tr th {\n",
       "        vertical-align: top;\n",
       "    }\n",
       "\n",
       "    .dataframe thead th {\n",
       "        text-align: right;\n",
       "    }\n",
       "</style>\n",
       "<table border=\"1\" class=\"dataframe\">\n",
       "  <thead>\n",
       "    <tr style=\"text-align: right;\">\n",
       "      <th></th>\n",
       "      <th>numero_siniestro</th>\n",
       "      <th>placa_vehiculo</th>\n",
       "      <th>descripcion_riesgo</th>\n",
       "      <th>tipo_iden_aseg</th>\n",
       "      <th>nro_iden_aseg</th>\n",
       "      <th>servicio</th>\n",
       "      <th>nro_iden_conduc</th>\n",
       "      <th>igual</th>\n",
       "    </tr>\n",
       "  </thead>\n",
       "  <tbody>\n",
       "    <tr>\n",
       "      <th>0</th>\n",
       "      <td>1126553</td>\n",
       "      <td>KOX390</td>\n",
       "      <td>KOX390 - JEEP - RENEGADE - SPORT MT 1800CC 4X2...</td>\n",
       "      <td>Cédula Ciudadanía</td>\n",
       "      <td>19266175</td>\n",
       "      <td>Particular</td>\n",
       "      <td>19266175.0</td>\n",
       "      <td>1</td>\n",
       "    </tr>\n",
       "    <tr>\n",
       "      <th>1</th>\n",
       "      <td>1126683</td>\n",
       "      <td>EPM424</td>\n",
       "      <td>EPM424 - MAZDA - CX5 [2] - TOURINGTP 2500C</td>\n",
       "      <td>Cédula Ciudadanía</td>\n",
       "      <td>1088260313</td>\n",
       "      <td>Particular</td>\n",
       "      <td>NaN</td>\n",
       "      <td>0</td>\n",
       "    </tr>\n",
       "    <tr>\n",
       "      <th>2</th>\n",
       "      <td>1126594</td>\n",
       "      <td>NJP712</td>\n",
       "      <td>NJP712 - VOLKSWAGEN - NIVUS - COMFORTLINE TP 1...</td>\n",
       "      <td>Cédula Ciudadanía</td>\n",
       "      <td>79304704</td>\n",
       "      <td>Particular</td>\n",
       "      <td>79304704.0</td>\n",
       "      <td>1</td>\n",
       "    </tr>\n",
       "    <tr>\n",
       "      <th>3</th>\n",
       "      <td>1126588</td>\n",
       "      <td>LLO507</td>\n",
       "      <td>LLO507 - KIA - PICANTO [3] - VIBRANTMT 1250C</td>\n",
       "      <td>Cédula Ciudadanía</td>\n",
       "      <td>32711460</td>\n",
       "      <td>Particular</td>\n",
       "      <td>32711460.0</td>\n",
       "      <td>1</td>\n",
       "    </tr>\n",
       "    <tr>\n",
       "      <th>4</th>\n",
       "      <td>1126589</td>\n",
       "      <td>IPX437</td>\n",
       "      <td>IPX437 - KIA - CERATO GEO - 1.6 MT 1600CC AB TC</td>\n",
       "      <td>Cédula Ciudadanía</td>\n",
       "      <td>66827858</td>\n",
       "      <td>Particular</td>\n",
       "      <td>66827858.0</td>\n",
       "      <td>1</td>\n",
       "    </tr>\n",
       "  </tbody>\n",
       "</table>\n",
       "</div>"
      ],
      "text/plain": [
       "   numero_siniestro placa_vehiculo  \\\n",
       "0           1126553         KOX390   \n",
       "1           1126683         EPM424   \n",
       "2           1126594         NJP712   \n",
       "3           1126588         LLO507   \n",
       "4           1126589         IPX437   \n",
       "\n",
       "                                  descripcion_riesgo     tipo_iden_aseg  \\\n",
       "0  KOX390 - JEEP - RENEGADE - SPORT MT 1800CC 4X2...  Cédula Ciudadanía   \n",
       "1        EPM424 - MAZDA - CX5 [2] - TOURINGTP 2500C   Cédula Ciudadanía   \n",
       "2  NJP712 - VOLKSWAGEN - NIVUS - COMFORTLINE TP 1...  Cédula Ciudadanía   \n",
       "3      LLO507 - KIA - PICANTO [3] - VIBRANTMT 1250C   Cédula Ciudadanía   \n",
       "4   IPX437 - KIA - CERATO GEO - 1.6 MT 1600CC AB TC   Cédula Ciudadanía   \n",
       "\n",
       "   nro_iden_aseg    servicio  nro_iden_conduc  igual  \n",
       "0       19266175  Particular       19266175.0      1  \n",
       "1     1088260313  Particular              NaN      0  \n",
       "2       79304704  Particular       79304704.0      1  \n",
       "3       32711460  Particular       32711460.0      1  \n",
       "4       66827858  Particular       66827858.0      1  "
      ]
     },
     "execution_count": 48,
     "metadata": {},
     "output_type": "execute_result"
    }
   ],
   "source": [
    "# Eliminación de la columna 'igual'\n",
    "file_E = file_E.drop(columns=['igual'])\n",
    "\n",
    "# Recreando la columna 'igual' para comprobar si nro_iden_conduc coincide con nro_iden_aseg\n",
    "file_E['igual'] = file_E['nro_iden_conduc'] == file_E['nro_iden_aseg']\n",
    "file_E[\"igual\"] = file_E[\"igual\"].astype(int)\n",
    "# Visualización de las primeras filas para la verificación\n",
    "file_E.head()"
   ]
  },
  {
   "cell_type": "code",
   "execution_count": 49,
   "id": "bc731129-71bd-4185-adf6-aac6e4c10202",
   "metadata": {
    "execution": {
     "iopub.execute_input": "2025-01-13T16:54:28.706454Z",
     "iopub.status.busy": "2025-01-13T16:54:28.706158Z",
     "iopub.status.idle": "2025-01-13T16:54:28.709520Z",
     "shell.execute_reply": "2025-01-13T16:54:28.709008Z"
    },
    "papermill": {
     "duration": 0.014218,
     "end_time": "2025-01-13T16:54:28.710397",
     "exception": false,
     "start_time": "2025-01-13T16:54:28.696179",
     "status": "completed"
    },
    "tags": []
   },
   "outputs": [],
   "source": [
    "file_E[\"igual\"] = file_E[\"igual\"].astype(int)"
   ]
  },
  {
   "cell_type": "code",
   "execution_count": 50,
   "id": "4b6c24f6-ddcb-4a8e-8922-1cc8254eaae2",
   "metadata": {
    "execution": {
     "iopub.execute_input": "2025-01-13T16:54:28.730133Z",
     "iopub.status.busy": "2025-01-13T16:54:28.729854Z",
     "iopub.status.idle": "2025-01-13T16:54:28.734650Z",
     "shell.execute_reply": "2025-01-13T16:54:28.734168Z"
    },
    "papermill": {
     "duration": 0.015678,
     "end_time": "2025-01-13T16:54:28.735511",
     "exception": false,
     "start_time": "2025-01-13T16:54:28.719833",
     "status": "completed"
    },
    "tags": []
   },
   "outputs": [
    {
     "data": {
      "text/plain": [
       "numero_siniestro        int64\n",
       "placa_vehiculo         object\n",
       "descripcion_riesgo     object\n",
       "tipo_iden_aseg         object\n",
       "nro_iden_aseg           int64\n",
       "servicio               object\n",
       "nro_iden_conduc       float64\n",
       "igual                   int64\n",
       "dtype: object"
      ]
     },
     "execution_count": 50,
     "metadata": {},
     "output_type": "execute_result"
    }
   ],
   "source": [
    "file_E.dtypes"
   ]
  },
  {
   "cell_type": "code",
   "execution_count": 51,
   "id": "0fd6870b-1031-401b-b377-34dd5a5c94e2",
   "metadata": {
    "execution": {
     "iopub.execute_input": "2025-01-13T16:54:28.755341Z",
     "iopub.status.busy": "2025-01-13T16:54:28.755073Z",
     "iopub.status.idle": "2025-01-13T16:54:28.764254Z",
     "shell.execute_reply": "2025-01-13T16:54:28.763773Z"
    },
    "papermill": {
     "duration": 0.02013,
     "end_time": "2025-01-13T16:54:28.765094",
     "exception": false,
     "start_time": "2025-01-13T16:54:28.744964",
     "status": "completed"
    },
    "tags": []
   },
   "outputs": [
    {
     "data": {
      "text/html": [
       "<div>\n",
       "<style scoped>\n",
       "    .dataframe tbody tr th:only-of-type {\n",
       "        vertical-align: middle;\n",
       "    }\n",
       "\n",
       "    .dataframe tbody tr th {\n",
       "        vertical-align: top;\n",
       "    }\n",
       "\n",
       "    .dataframe thead th {\n",
       "        text-align: right;\n",
       "    }\n",
       "</style>\n",
       "<table border=\"1\" class=\"dataframe\">\n",
       "  <thead>\n",
       "    <tr style=\"text-align: right;\">\n",
       "      <th></th>\n",
       "      <th>numero_siniestro</th>\n",
       "      <th>placa_vehiculo</th>\n",
       "      <th>descripcion_riesgo</th>\n",
       "      <th>tipo_iden_aseg</th>\n",
       "      <th>nro_iden_aseg</th>\n",
       "      <th>servicio</th>\n",
       "      <th>nro_iden_conduc</th>\n",
       "      <th>igual</th>\n",
       "    </tr>\n",
       "  </thead>\n",
       "  <tbody>\n",
       "    <tr>\n",
       "      <th>0</th>\n",
       "      <td>1126553</td>\n",
       "      <td>KOX390</td>\n",
       "      <td>KOX390 - JEEP - RENEGADE - SPORT MT 1800CC 4X2...</td>\n",
       "      <td>Cédula Ciudadanía</td>\n",
       "      <td>19266175</td>\n",
       "      <td>Particular</td>\n",
       "      <td>19266175.0</td>\n",
       "      <td>True</td>\n",
       "    </tr>\n",
       "    <tr>\n",
       "      <th>1</th>\n",
       "      <td>1126683</td>\n",
       "      <td>EPM424</td>\n",
       "      <td>EPM424 - MAZDA - CX5 [2] - TOURINGTP 2500C</td>\n",
       "      <td>Cédula Ciudadanía</td>\n",
       "      <td>1088260313</td>\n",
       "      <td>Particular</td>\n",
       "      <td>NaN</td>\n",
       "      <td>True</td>\n",
       "    </tr>\n",
       "    <tr>\n",
       "      <th>2</th>\n",
       "      <td>1126594</td>\n",
       "      <td>NJP712</td>\n",
       "      <td>NJP712 - VOLKSWAGEN - NIVUS - COMFORTLINE TP 1...</td>\n",
       "      <td>Cédula Ciudadanía</td>\n",
       "      <td>79304704</td>\n",
       "      <td>Particular</td>\n",
       "      <td>79304704.0</td>\n",
       "      <td>True</td>\n",
       "    </tr>\n",
       "    <tr>\n",
       "      <th>3</th>\n",
       "      <td>1126588</td>\n",
       "      <td>LLO507</td>\n",
       "      <td>LLO507 - KIA - PICANTO [3] - VIBRANTMT 1250C</td>\n",
       "      <td>Cédula Ciudadanía</td>\n",
       "      <td>32711460</td>\n",
       "      <td>Particular</td>\n",
       "      <td>32711460.0</td>\n",
       "      <td>True</td>\n",
       "    </tr>\n",
       "    <tr>\n",
       "      <th>4</th>\n",
       "      <td>1126589</td>\n",
       "      <td>IPX437</td>\n",
       "      <td>IPX437 - KIA - CERATO GEO - 1.6 MT 1600CC AB TC</td>\n",
       "      <td>Cédula Ciudadanía</td>\n",
       "      <td>66827858</td>\n",
       "      <td>Particular</td>\n",
       "      <td>66827858.0</td>\n",
       "      <td>True</td>\n",
       "    </tr>\n",
       "  </tbody>\n",
       "</table>\n",
       "</div>"
      ],
      "text/plain": [
       "   numero_siniestro placa_vehiculo  \\\n",
       "0           1126553         KOX390   \n",
       "1           1126683         EPM424   \n",
       "2           1126594         NJP712   \n",
       "3           1126588         LLO507   \n",
       "4           1126589         IPX437   \n",
       "\n",
       "                                  descripcion_riesgo     tipo_iden_aseg  \\\n",
       "0  KOX390 - JEEP - RENEGADE - SPORT MT 1800CC 4X2...  Cédula Ciudadanía   \n",
       "1        EPM424 - MAZDA - CX5 [2] - TOURINGTP 2500C   Cédula Ciudadanía   \n",
       "2  NJP712 - VOLKSWAGEN - NIVUS - COMFORTLINE TP 1...  Cédula Ciudadanía   \n",
       "3      LLO507 - KIA - PICANTO [3] - VIBRANTMT 1250C   Cédula Ciudadanía   \n",
       "4   IPX437 - KIA - CERATO GEO - 1.6 MT 1600CC AB TC   Cédula Ciudadanía   \n",
       "\n",
       "   nro_iden_aseg    servicio  nro_iden_conduc  igual  \n",
       "0       19266175  Particular       19266175.0   True  \n",
       "1     1088260313  Particular              NaN   True  \n",
       "2       79304704  Particular       79304704.0   True  \n",
       "3       32711460  Particular       32711460.0   True  \n",
       "4       66827858  Particular       66827858.0   True  "
      ]
     },
     "execution_count": 51,
     "metadata": {},
     "output_type": "execute_result"
    }
   ],
   "source": [
    "# Asigne 'igual' igual a 1 para los casos en los que 'nro_iden_conduc' sea un valor faltante\n",
    "file_E['igual'] = file_E['igual'] | file_E['nro_iden_conduc'].isna()\n",
    "\n",
    "# Visualización de las primeras filas para la verificación\n",
    "file_E.head()\n"
   ]
  },
  {
   "cell_type": "code",
   "execution_count": 52,
   "id": "31fbda14-2e05-45d1-bbf7-d8554c50479c",
   "metadata": {
    "execution": {
     "iopub.execute_input": "2025-01-13T16:54:28.785621Z",
     "iopub.status.busy": "2025-01-13T16:54:28.785300Z",
     "iopub.status.idle": "2025-01-13T16:54:28.788698Z",
     "shell.execute_reply": "2025-01-13T16:54:28.788206Z"
    },
    "papermill": {
     "duration": 0.014529,
     "end_time": "2025-01-13T16:54:28.789529",
     "exception": false,
     "start_time": "2025-01-13T16:54:28.775000",
     "status": "completed"
    },
    "tags": []
   },
   "outputs": [],
   "source": [
    "file_E[\"igual\"] = file_E[\"igual\"].astype(int)"
   ]
  },
  {
   "cell_type": "code",
   "execution_count": 53,
   "id": "ff27382e-a78b-48ea-b568-d43c956e306e",
   "metadata": {
    "execution": {
     "iopub.execute_input": "2025-01-13T16:54:28.810136Z",
     "iopub.status.busy": "2025-01-13T16:54:28.809853Z",
     "iopub.status.idle": "2025-01-13T16:54:28.814723Z",
     "shell.execute_reply": "2025-01-13T16:54:28.814226Z"
    },
    "papermill": {
     "duration": 0.016075,
     "end_time": "2025-01-13T16:54:28.815588",
     "exception": false,
     "start_time": "2025-01-13T16:54:28.799513",
     "status": "completed"
    },
    "tags": []
   },
   "outputs": [
    {
     "data": {
      "text/plain": [
       "numero_siniestro        int64\n",
       "placa_vehiculo         object\n",
       "descripcion_riesgo     object\n",
       "tipo_iden_aseg         object\n",
       "nro_iden_aseg           int64\n",
       "servicio               object\n",
       "nro_iden_conduc       float64\n",
       "igual                   int64\n",
       "dtype: object"
      ]
     },
     "execution_count": 53,
     "metadata": {},
     "output_type": "execute_result"
    }
   ],
   "source": [
    "file_E.dtypes"
   ]
  },
  {
   "cell_type": "code",
   "execution_count": 54,
   "id": "7335f720-c622-48d0-b26b-c0b5541758ce",
   "metadata": {
    "execution": {
     "iopub.execute_input": "2025-01-13T16:54:28.836179Z",
     "iopub.status.busy": "2025-01-13T16:54:28.835900Z",
     "iopub.status.idle": "2025-01-13T16:54:28.839856Z",
     "shell.execute_reply": "2025-01-13T16:54:28.839352Z"
    },
    "papermill": {
     "duration": 0.015122,
     "end_time": "2025-01-13T16:54:28.840674",
     "exception": false,
     "start_time": "2025-01-13T16:54:28.825552",
     "status": "completed"
    },
    "tags": []
   },
   "outputs": [],
   "source": [
    "file_E = file_E[['numero_siniestro', 'placa_vehiculo', 'tipo_iden_aseg','nro_iden_aseg', 'nro_iden_conduc', 'igual', \n",
    "                 'descripcion_riesgo', 'servicio']]"
   ]
  },
  {
   "cell_type": "code",
   "execution_count": 55,
   "id": "ceabb1fb-0289-4a82-8d3e-9b827a91c383",
   "metadata": {
    "execution": {
     "iopub.execute_input": "2025-01-13T16:54:28.861320Z",
     "iopub.status.busy": "2025-01-13T16:54:28.861047Z",
     "iopub.status.idle": "2025-01-13T16:54:28.887938Z",
     "shell.execute_reply": "2025-01-13T16:54:28.887397Z"
    },
    "papermill": {
     "duration": 0.038258,
     "end_time": "2025-01-13T16:54:28.888942",
     "exception": false,
     "start_time": "2025-01-13T16:54:28.850684",
     "status": "completed"
    },
    "tags": []
   },
   "outputs": [],
   "source": [
    "file_E.to_excel(\"pruebarunt.xlsx\")"
   ]
  },
  {
   "cell_type": "code",
   "execution_count": 56,
   "id": "a1a44691-2089-4154-9a3c-e50936823394",
   "metadata": {
    "execution": {
     "iopub.execute_input": "2025-01-13T16:54:28.909961Z",
     "iopub.status.busy": "2025-01-13T16:54:28.909678Z",
     "iopub.status.idle": "2025-01-13T16:54:28.955498Z",
     "shell.execute_reply": "2025-01-13T16:54:28.954939Z"
    },
    "papermill": {
     "duration": 0.057556,
     "end_time": "2025-01-13T16:54:28.956561",
     "exception": false,
     "start_time": "2025-01-13T16:54:28.899005",
     "status": "completed"
    },
    "tags": []
   },
   "outputs": [],
   "source": [
    "# El dataframe con columnas a, b, c, d, e, y f\n",
    "existing_dataframe = pd.read_excel(\"pruebarunt.xlsx\")\n",
    "# Cree una lista vacía para almacenar las filas del nuevo dataframe\n",
    "new_data = []\n",
    "\n",
    "# Bucle a través del dataframe existente\n",
    "for index, row in existing_dataframe.iterrows():\n",
    "    if row['igual'] == 1:\n",
    "        # Agregue una sola fila al nuevo marco de datos con 'identificacion' como valor de la columna d\n",
    "        new_data.append({'placa': row['placa_vehiculo'], 'identificacion': row['nro_iden_aseg'], 'tipo_identificacion': row['tipo_iden_aseg'], 'tipo_vehiculo': row['descripcion_riesgo']})\n",
    "    else:\n",
    "        # Agregue dos filas al nuevo marco de datos, una con 'identificación' como valor de la columna d\n",
    "        # y otro con 'identificación' como columna e valor\n",
    "        new_data.append({'placa': row['placa_vehiculo'], 'identificacion': row['nro_iden_aseg'], 'tipo_identificacion': row['tipo_iden_aseg'], 'tipo_vehiculo': row['descripcion_riesgo']})\n",
    "        new_data.append({'placa': row['placa_vehiculo'], 'identificacion': row['nro_iden_conduc'], 'tipo_identificacion': row['tipo_iden_aseg'], 'tipo_vehiculo': row['descripcion_riesgo']})\n",
    "\n",
    "# Crear el nuevo marco de datos a partir de la lista de datos\n",
    "new_dataframe = pd.DataFrame(new_data)\n",
    "new_dataframe.to_excel(\"muestra_Liberty_INTEMPO.xlsx\", index=False)"
   ]
  },
  {
   "cell_type": "code",
   "execution_count": null,
   "id": "615d47a8-0622-463e-b669-149043a9f6ad",
   "metadata": {
    "papermill": {
     "duration": 0.009771,
     "end_time": "2025-01-13T16:54:28.976578",
     "exception": false,
     "start_time": "2025-01-13T16:54:28.966807",
     "status": "completed"
    },
    "tags": []
   },
   "outputs": [],
   "source": []
  },
  {
   "cell_type": "code",
   "execution_count": 57,
   "id": "05e3e851-f600-419b-9bb3-77eb92b399c1",
   "metadata": {
    "execution": {
     "iopub.execute_input": "2025-01-13T16:54:28.997335Z",
     "iopub.status.busy": "2025-01-13T16:54:28.997024Z",
     "iopub.status.idle": "2025-01-13T16:54:29.039099Z",
     "shell.execute_reply": "2025-01-13T16:54:29.038545Z"
    },
    "papermill": {
     "duration": 0.053808,
     "end_time": "2025-01-13T16:54:29.040173",
     "exception": false,
     "start_time": "2025-01-13T16:54:28.986365",
     "status": "completed"
    },
    "tags": []
   },
   "outputs": [],
   "source": [
    "import pandas as pd\n",
    "def procesar_placas(dataframe):\n",
    "    \"\"\"\n",
    "   Procesa un DataFrame con las siguientes reglas:\n",
    "   1. Filtra únicamente los valores con 'N' en la columna 'tipo_identificacion'.\n",
    "   2. Para placas repetidas:\n",
    "      - Elimina el registro donde 'identificacion' comienza con el primer valor de identificación.\n",
    "      - Asigna 'C' al segundo valor de 'tipo_identificacion' cuando los valores de 'identificacion' son diferentes.\n",
    "   :param dataframe: DataFrame con las columnas 'placa', 'identificacion', 'tipo_identificacion'.\n",
    "   :return: DataFrame procesado.\n",
    "    \"\"\"\n",
    "   # Limpiar la columna 'identificacion' eliminando '.0' si existe\n",
    "    dataframe['identificacion'] = dataframe['identificacion'].apply(lambda x: str(x).split('.')[0])\n",
    "   # Filtrar las filas con 'N' en 'tipo_identificacion'\n",
    "    df_n = dataframe[dataframe['tipo_identificacion'] == 'N']\n",
    "    resultados = []\n",
    "   # Procesar placas duplicadas\n",
    "    for placa, grupo in df_n.groupby('placa'):\n",
    "        if len(grupo) > 1:  # Procesar solo placas repetidas\n",
    "            identificaciones = grupo['identificacion'].tolist()\n",
    "            tipo_identificaciones = grupo['tipo_identificacion'].tolist()\n",
    "            for i in range(1, len(identificaciones)):\n",
    "               # Caso 1: Identificaciones que comienzan con el primer valor (duplicados)\n",
    "                if identificaciones[i].startswith(identificaciones[0]):\n",
    "                    tipo_identificaciones[i] = None  # Marca para eliminar\n",
    "               # Caso 2: Identificaciones diferentes\n",
    "                elif identificaciones[i] != identificaciones[0]:\n",
    "                    tipo_identificaciones[i] = 'C'\n",
    "           # Actualizar el grupo con los cambios\n",
    "            grupo['tipo_identificacion'] = tipo_identificaciones\n",
    "            grupo = grupo.dropna(subset=['tipo_identificacion'])  # Elimina filas marcadas\n",
    "            resultados.append(grupo)\n",
    "        else:\n",
    "            resultados.append(grupo)\n",
    "   # Combinar los resultados procesados\n",
    "    df_n_procesado = pd.concat(resultados)\n",
    "   # Combinar los valores procesados con los no filtrados\n",
    "    df_resultado = pd.concat([df_n_procesado, dataframe[dataframe['tipo_identificacion'] != 'N']], ignore_index=True)\n",
    "    return df_resultado\n",
    "\n",
    "# Cargar el archivo generado anteriormente\n",
    "existing_dataframe = pd.read_excel(\"pruebarunt.xlsx\")\n",
    "# Crear una lista vacía para almacenar las filas del nuevo dataframe\n",
    "new_data = []\n",
    "# Diccionario para convertir los tipos de identificación a letras\n",
    "tipo_identificacion_map = {\n",
    "   'NIT': 'N',\n",
    "   'Cédula Ciudadanía': 'C',\n",
    "    'Cédula ciudadanía': 'C',\n",
    "   'Cédula Extranjería': 'E',\n",
    "    'Cédula extranjería': 'E',\n",
    "   'Tarjeta Identidad': 'T',\n",
    "   'Pasaporte': 'P'\n",
    "}\n",
    "# Recorrer el dataframe existente\n",
    "for index, row in existing_dataframe.iterrows():\n",
    "    tipo_identificacion = tipo_identificacion_map.get(row['tipo_iden_aseg'], row['tipo_iden_aseg'])  # Mapear tipo de identificación\n",
    "    if row['igual'] == 1:\n",
    "       # Agregar una única fila al nuevo dataframe\n",
    "        new_data.append({\n",
    "            'placa': row['placa_vehiculo'],\n",
    "            'identificacion': str(row['nro_iden_aseg']).split('.')[0],\n",
    "            'tipo_identificacion': tipo_identificacion\n",
    "        })\n",
    "    else:\n",
    "       # Agregar dos filas al nuevo dataframe para los casos sin coincidencia\n",
    "        new_data.append({\n",
    "            'placa': row['placa_vehiculo'],\n",
    "            'identificacion': str(row['nro_iden_aseg']).split('.')[0],\n",
    "            'tipo_identificacion': tipo_identificacion\n",
    "        })\n",
    "        new_data.append({\n",
    "            'placa': row['placa_vehiculo'],\n",
    "            'identificacion': str(row['nro_iden_conduc']).split('.')[0],\n",
    "            'tipo_identificacion': tipo_identificacion\n",
    "        })\n",
    "# Crear el nuevo dataframe a partir de la lista de datos\n",
    "new_dataframe = pd.DataFrame(new_data)\n",
    "# Aplicar la función de procesamiento a las placas\n",
    "processed_dataframe = procesar_placas(new_dataframe)\n",
    "# Guardar el archivo procesado\n",
    "# processed_dataframe.to_excel(\"muestra_Liberty_INTEMPO_30_DIC_2024_procesado.xlsx\", index=False)\n",
    "# # Ver el resultado en consola (opcional)\n",
    "# print(processed_dataframe)"
   ]
  },
  {
   "cell_type": "code",
   "execution_count": 58,
   "id": "fc7670b8-cd63-4003-a14f-f5e80b68f1fa",
   "metadata": {
    "execution": {
     "iopub.execute_input": "2025-01-13T16:54:29.061127Z",
     "iopub.status.busy": "2025-01-13T16:54:29.060841Z",
     "iopub.status.idle": "2025-01-13T16:54:29.077799Z",
     "shell.execute_reply": "2025-01-13T16:54:29.077253Z"
    },
    "papermill": {
     "duration": 0.028339,
     "end_time": "2025-01-13T16:54:29.078631",
     "exception": false,
     "start_time": "2025-01-13T16:54:29.050292",
     "status": "completed"
    },
    "tags": []
   },
   "outputs": [
    {
     "name": "stdout",
     "output_type": "stream",
     "text": [
      "Archivo guardado como: muestra_Liberty_INTEMPO_13_ENE_2025.xlsx\n"
     ]
    }
   ],
   "source": [
    "# Generar el nombre del archivo basado en la fecha actual\n",
    "meses = ['ENE', 'FEB', 'MAR', 'ABR', 'MAY', 'JUN', 'JUL', 'AGO', 'SEP', 'OCT', 'NOV', 'DIC']\n",
    "hoy = datetime.now()\n",
    "nombre_archivo = f\"muestra_Liberty_INTEMPO_{hoy.strftime('%d')}_{meses[hoy.month - 1]}_{hoy.strftime('%Y')}.xlsx\"\n",
    "# Guardar el archivo procesado\n",
    "processed_dataframe.to_excel(nombre_archivo, index=False)\n",
    "print(f\"Archivo guardado como: {nombre_archivo}\")"
   ]
  },
  {
   "cell_type": "code",
   "execution_count": null,
   "id": "35b5e984-faf0-42ea-88f1-5b2c56fee1d0",
   "metadata": {
    "papermill": {
     "duration": 0.009838,
     "end_time": "2025-01-13T16:54:29.098465",
     "exception": false,
     "start_time": "2025-01-13T16:54:29.088627",
     "status": "completed"
    },
    "tags": []
   },
   "outputs": [],
   "source": []
  }
 ],
 "metadata": {
  "kernelspec": {
   "display_name": "RUNT",
   "language": "python",
   "name": "runt"
  },
  "language_info": {
   "codemirror_mode": {
    "name": "ipython",
    "version": 3
   },
   "file_extension": ".py",
   "mimetype": "text/x-python",
   "name": "python",
   "nbconvert_exporter": "python",
   "pygments_lexer": "ipython3",
   "version": "3.10.8"
  },
  "papermill": {
   "default_parameters": {},
   "duration": 170.259426,
   "end_time": "2025-01-13T16:54:31.527172",
   "environment_variables": {},
   "exception": null,
   "input_path": "pipeline_RUNT.ipynb",
   "output_path": "pipeline_RUNT.ipynb",
   "parameters": {},
   "start_time": "2025-01-13T16:51:41.267746",
   "version": "2.6.0"
  }
 },
 "nbformat": 4,
 "nbformat_minor": 5
}